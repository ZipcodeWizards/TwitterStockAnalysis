{
 "cells": [
  {
   "cell_type": "code",
   "execution_count": 1,
   "id": "320793e3",
   "metadata": {},
   "outputs": [],
   "source": [
    "import sys\n",
    "import tweepy\n",
    "import os\n",
    "from dotenv import load_dotenv\n"
   ]
  },
  {
   "cell_type": "code",
   "execution_count": 2,
   "id": "a288f7dc",
   "metadata": {},
   "outputs": [],
   "source": [
    "load_dotenv()\n",
    "consumerKey = os.environ['apikey']\n",
    "consumerSecret = os.environ['apisecrectkey']\n",
    "accessToken = os.environ['accesstoken']\n",
    "accessTokenSecret = os.environ['accesstokensecret']\n",
    "auth = tweepy.OAuthHandler(consumerKey, consumerSecret)\n",
    "auth.set_access_token(accessToken, accessTokenSecret)\n",
    "api = tweepy.API(auth)"
   ]
  },
  {
   "cell_type": "code",
   "execution_count": 3,
   "id": "104146c0",
   "metadata": {},
   "outputs": [
    {
     "name": "stdout",
     "output_type": "stream",
     "text": [
      "Please enter keyword or hashtag to search: $GME\n",
      "Please enter how many tweets to analyze: 2\n",
      "I love wsb! Shout out to u/bubbaganube $GME $AMC\n",
      "\n",
      "https://t.co/ljtq6xrUMp https://t.co/GvpEEv2VPe\n",
      "RT @RogueTheLegacy: MARKET MAKERS PLANS UNVEILED\n",
      "By a Market Maker 7 years ago\n",
      "\n",
      "APES READ⬇️\n",
      "#AMC $AMC #GME $GME\n",
      "#APESNOTLEAVING\n",
      "\n",
      "https://t.…\n"
     ]
    }
   ],
   "source": [
    "keyword = input(\"Please enter keyword or hashtag to search: \")\n",
    "noOfTweet = int(input (\"Please enter how many tweets to analyze: \"))\n",
    "\n",
    "tweets = tweepy.Cursor(api.search, q=keyword).items(noOfTweet)\n",
    "\n",
    "for tweet in tweets:\n",
    "    \n",
    "    print(tweet.text)\n",
    "    "
   ]
  },
  {
   "cell_type": "code",
   "execution_count": null,
   "id": "ab5aae4d",
   "metadata": {},
   "outputs": [],
   "source": []
  }
 ],
 "metadata": {
  "kernelspec": {
   "display_name": "Python 3 (ipykernel)",
   "language": "python",
   "name": "python3"
  },
  "language_info": {
   "codemirror_mode": {
    "name": "ipython",
    "version": 3
   },
   "file_extension": ".py",
   "mimetype": "text/x-python",
   "name": "python",
   "nbconvert_exporter": "python",
   "pygments_lexer": "ipython3",
   "version": "3.9.5"
  }
 },
 "nbformat": 4,
 "nbformat_minor": 5
}
