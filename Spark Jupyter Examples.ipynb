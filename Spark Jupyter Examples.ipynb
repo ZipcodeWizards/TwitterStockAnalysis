{
 "cells": [
  {
   "cell_type": "code",
   "execution_count": 4,
   "id": "aaa71210",
   "metadata": {},
   "outputs": [],
   "source": [
    "from pyspark.sql import SparkSession\n",
    "from pyspark.sql import column\n",
    "import pandas as pd\n",
    "import sqlite3"
   ]
  },
  {
   "cell_type": "code",
   "execution_count": 5,
   "id": "26bf842d",
   "metadata": {},
   "outputs": [],
   "source": [
    "con = sqlite3.connect('sentiment.db')"
   ]
  },
  {
   "cell_type": "code",
   "execution_count": 6,
   "id": "e77d110b",
   "metadata": {},
   "outputs": [
    {
     "data": {
      "text/plain": [
       "Index(['index', 'screen_name', 'date_time', 'text', 'retweeted', 'lang'], dtype='object')"
      ]
     },
     "execution_count": 6,
     "metadata": {},
     "output_type": "execute_result"
    }
   ],
   "source": [
    "df = pd.read_sql_query(\"SELECT * FROM sentiment\", con)\n",
    "df.columns"
   ]
  },
  {
   "cell_type": "code",
   "execution_count": 7,
   "id": "3f49bb4a",
   "metadata": {},
   "outputs": [
    {
     "name": "stdout",
     "output_type": "stream",
     "text": [
      "<bound method NDFrame.head of     index      screen_name                   date_time  \\\n",
      "0       0      ethayes2010  2021-09-04 12:48:33.000000   \n",
      "1       1     ihave5broats  2021-09-04 12:48:31.000000   \n",
      "2       2   ToasterJessica  2021-09-04 12:48:31.000000   \n",
      "3       3      Zed18978371  2021-09-04 12:48:31.000000   \n",
      "4       4      GunPangSSam  2021-09-04 12:48:30.000000   \n",
      "5       0          Kahv6m7  2021-09-04 13:28:17.000000   \n",
      "6       1        TeslaOwls  2021-09-04 13:28:16.000000   \n",
      "7       2        andyro233  2021-09-04 13:28:15.000000   \n",
      "8       3       vin_wiesel  2021-09-04 13:28:11.000000   \n",
      "9       4  Jeeeeee66023780  2021-09-04 13:28:09.000000   \n",
      "10      0    Coinhustler84  2021-09-04 13:28:57.000000   \n",
      "11      1   developrwannab  2021-09-04 13:28:53.000000   \n",
      "12      2     FuBo19562152  2021-09-04 13:28:47.000000   \n",
      "13      3    kotoMxSamurai  2021-09-04 13:28:47.000000   \n",
      "14      4      luke_deluxe  2021-09-04 13:28:44.000000   \n",
      "15      0    Coinhustler84  2021-09-04 13:28:57.000000   \n",
      "16      1   developrwannab  2021-09-04 13:28:53.000000   \n",
      "17      2     FuBo19562152  2021-09-04 13:28:47.000000   \n",
      "18      3    kotoMxSamurai  2021-09-04 13:28:47.000000   \n",
      "19      4      luke_deluxe  2021-09-04 13:28:44.000000   \n",
      "\n",
      "                                                 text  retweeted lang  \n",
      "0   RT @ethayes2010: @CityofTelosa @MarcLore Final...          0   en  \n",
      "1                        @SamR33v3s New Tesla models.          0   ca  \n",
      "2   RT @basetankrs: Tesla’s are expensive because ...          0   en  \n",
      "3   @NorristownN @RolandStautz Yup - I’m the crazy...          0   en  \n",
      "4   @tesla_somac 저도 같은마음 입니다.\\n대전.충남경선보고 속상한맘에 신랑과...          0   ko  \n",
      "5   RT @DusundukceVariz: “O kadar cahilsiniz ki, d...          0   tr  \n",
      "6   @EconomicManBlog @pauluaq1 @jrtolver16 @Tesla ...          0   en  \n",
      "7   @javielon95 @foroelectricos @GroupeRenaultEV @...          0   es  \n",
      "8   @nuc_geek Media: “TESLA CRASHES INTO BUILDING ...          0   en  \n",
      "9   @TeslaAIBot @Tesla Why you have so many follow...          0   en  \n",
      "10  RT @TeslaAIBot: Humans, \\nThis is my favorite ...          0   en  \n",
      "11  @ukspacebulletin Great thanks. Now I got to ad...          0   en  \n",
      "12  RT @ChineseWSJ: #本周热读 尽管目前没有迹象表明台海冲突会很快爆发，但局势已...          0   zh  \n",
      "13  RT @afrooo_samurai: @Life_Is_Greater @HodlToke...          0  und  \n",
      "14  @MMarboni @RARpartners @TechInsider @OOIDA Fin...          0   en  \n",
      "15  RT @TeslaAIBot: Humans, \\nThis is my favorite ...          0   en  \n",
      "16  @ukspacebulletin Great thanks. Now I got to ad...          0   en  \n",
      "17  RT @ChineseWSJ: #本周热读 尽管目前没有迹象表明台海冲突会很快爆发，但局势已...          0   zh  \n",
      "18  RT @afrooo_samurai: @Life_Is_Greater @HodlToke...          0  und  \n",
      "19  @MMarboni @RARpartners @TechInsider @OOIDA Fin...          0   en  >\n"
     ]
    }
   ],
   "source": [
    "print(df.head)"
   ]
  },
  {
   "cell_type": "code",
   "execution_count": 10,
   "id": "d69bf65a",
   "metadata": {},
   "outputs": [],
   "source": [
    "spark = SparkSession.builder \\\n",
    "    .master(\"local[1]\") \\\n",
    "    .appName(\"Tesla Tweets\") \\\n",
    "    .getOrCreate()"
   ]
  },
  {
   "cell_type": "code",
   "execution_count": 11,
   "id": "cb8677ac",
   "metadata": {},
   "outputs": [
    {
     "name": "stdout",
     "output_type": "stream",
     "text": [
      "root\n",
      " |-- index: long (nullable = true)\n",
      " |-- screen_name: string (nullable = true)\n",
      " |-- date_time: string (nullable = true)\n",
      " |-- text: string (nullable = true)\n",
      " |-- retweeted: long (nullable = true)\n",
      " |-- lang: string (nullable = true)\n",
      "\n"
     ]
    }
   ],
   "source": [
    "sparkDF = spark.createDataFrame(df)\n",
    "sparkDF.printSchema()"
   ]
  },
  {
   "cell_type": "code",
   "execution_count": 12,
   "id": "69ad64f9",
   "metadata": {},
   "outputs": [
    {
     "name": "stdout",
     "output_type": "stream",
     "text": [
      "+-----+---------------+--------------------+-----------------------+---------+----+\n",
      "|index|    screen_name|           date_time|                   text|retweeted|lang|\n",
      "+-----+---------------+--------------------+-----------------------+---------+----+\n",
      "|    0|    ethayes2010|2021-09-04 12:48:...|   RT @ethayes2010: ...|        0|  en|\n",
      "|    1|   ihave5broats|2021-09-04 12:48:...|   @SamR33v3s New Te...|        0|  ca|\n",
      "|    2| ToasterJessica|2021-09-04 12:48:...|   RT @basetankrs: T...|        0|  en|\n",
      "|    3|    Zed18978371|2021-09-04 12:48:...|   @NorristownN @Rol...|        0|  en|\n",
      "|    4|    GunPangSSam|2021-09-04 12:48:...|@tesla_somac 저도 같...|        0|  ko|\n",
      "|    0|        Kahv6m7|2021-09-04 13:28:...|   RT @DusundukceVar...|        0|  tr|\n",
      "|    1|      TeslaOwls|2021-09-04 13:28:...|   @EconomicManBlog ...|        0|  en|\n",
      "|    2|      andyro233|2021-09-04 13:28:...|   @javielon95 @foro...|        0|  es|\n",
      "|    3|     vin_wiesel|2021-09-04 13:28:...|   @nuc_geek Media: ...|        0|  en|\n",
      "|    4|Jeeeeee66023780|2021-09-04 13:28:...|   @TeslaAIBot @Tesl...|        0|  en|\n",
      "|    0|  Coinhustler84|2021-09-04 13:28:...|   RT @TeslaAIBot: H...|        0|  en|\n",
      "|    1| developrwannab|2021-09-04 13:28:...|   @ukspacebulletin ...|        0|  en|\n",
      "|    2|   FuBo19562152|2021-09-04 13:28:...|   RT @ChineseWSJ: #...|        0|  zh|\n",
      "|    3|  kotoMxSamurai|2021-09-04 13:28:...|   RT @afrooo_samura...|        0| und|\n",
      "|    4|    luke_deluxe|2021-09-04 13:28:...|   @MMarboni @RARpar...|        0|  en|\n",
      "|    0|  Coinhustler84|2021-09-04 13:28:...|   RT @TeslaAIBot: H...|        0|  en|\n",
      "|    1| developrwannab|2021-09-04 13:28:...|   @ukspacebulletin ...|        0|  en|\n",
      "|    2|   FuBo19562152|2021-09-04 13:28:...|   RT @ChineseWSJ: #...|        0|  zh|\n",
      "|    3|  kotoMxSamurai|2021-09-04 13:28:...|   RT @afrooo_samura...|        0| und|\n",
      "|    4|    luke_deluxe|2021-09-04 13:28:...|   @MMarboni @RARpar...|        0|  en|\n",
      "+-----+---------------+--------------------+-----------------------+---------+----+\n",
      "\n"
     ]
    }
   ],
   "source": [
    "sparkDF.show()"
   ]
  },
  {
   "cell_type": "code",
   "execution_count": 15,
   "id": "d488487c",
   "metadata": {},
   "outputs": [],
   "source": [
    "sparkDFnoRT = sparkDF.filter(~sparkDF.text.startswith('RT'))\n",
    "spark_DF_En = sparkDFnoRT.filter(sparkDFnoRT.lang.contains('en'))\n",
    "\n",
    "# df.filter(df.name.startswith('Al')).collect()"
   ]
  },
  {
   "cell_type": "code",
   "execution_count": 16,
   "id": "51a400c3",
   "metadata": {},
   "outputs": [
    {
     "name": "stdout",
     "output_type": "stream",
     "text": [
      "+-----+---------------+--------------------+-----------------------+---------+----+\n",
      "|index|    screen_name|           date_time|                   text|retweeted|lang|\n",
      "+-----+---------------+--------------------+-----------------------+---------+----+\n",
      "|    1|   ihave5broats|2021-09-04 12:48:...|   @SamR33v3s New Te...|        0|  ca|\n",
      "|    3|    Zed18978371|2021-09-04 12:48:...|   @NorristownN @Rol...|        0|  en|\n",
      "|    4|    GunPangSSam|2021-09-04 12:48:...|@tesla_somac 저도 같...|        0|  ko|\n",
      "|    1|      TeslaOwls|2021-09-04 13:28:...|   @EconomicManBlog ...|        0|  en|\n",
      "|    2|      andyro233|2021-09-04 13:28:...|   @javielon95 @foro...|        0|  es|\n",
      "|    3|     vin_wiesel|2021-09-04 13:28:...|   @nuc_geek Media: ...|        0|  en|\n",
      "|    4|Jeeeeee66023780|2021-09-04 13:28:...|   @TeslaAIBot @Tesl...|        0|  en|\n",
      "|    1| developrwannab|2021-09-04 13:28:...|   @ukspacebulletin ...|        0|  en|\n",
      "|    4|    luke_deluxe|2021-09-04 13:28:...|   @MMarboni @RARpar...|        0|  en|\n",
      "|    1| developrwannab|2021-09-04 13:28:...|   @ukspacebulletin ...|        0|  en|\n",
      "|    4|    luke_deluxe|2021-09-04 13:28:...|   @MMarboni @RARpar...|        0|  en|\n",
      "+-----+---------------+--------------------+-----------------------+---------+----+\n",
      "\n"
     ]
    }
   ],
   "source": [
    "sparkDFnoRT.show()"
   ]
  },
  {
   "cell_type": "code",
   "execution_count": 17,
   "id": "be6e3a6b",
   "metadata": {},
   "outputs": [
    {
     "name": "stdout",
     "output_type": "stream",
     "text": [
      "+-----+---------------+--------------------+--------------------+---------+----+\n",
      "|index|    screen_name|           date_time|                text|retweeted|lang|\n",
      "+-----+---------------+--------------------+--------------------+---------+----+\n",
      "|    3|    Zed18978371|2021-09-04 12:48:...|@NorristownN @Rol...|        0|  en|\n",
      "|    1|      TeslaOwls|2021-09-04 13:28:...|@EconomicManBlog ...|        0|  en|\n",
      "|    3|     vin_wiesel|2021-09-04 13:28:...|@nuc_geek Media: ...|        0|  en|\n",
      "|    4|Jeeeeee66023780|2021-09-04 13:28:...|@TeslaAIBot @Tesl...|        0|  en|\n",
      "|    1| developrwannab|2021-09-04 13:28:...|@ukspacebulletin ...|        0|  en|\n",
      "|    4|    luke_deluxe|2021-09-04 13:28:...|@MMarboni @RARpar...|        0|  en|\n",
      "|    1| developrwannab|2021-09-04 13:28:...|@ukspacebulletin ...|        0|  en|\n",
      "|    4|    luke_deluxe|2021-09-04 13:28:...|@MMarboni @RARpar...|        0|  en|\n",
      "+-----+---------------+--------------------+--------------------+---------+----+\n",
      "\n"
     ]
    }
   ],
   "source": [
    "spark_DF_En.show()"
   ]
  },
  {
   "cell_type": "code",
   "execution_count": 18,
   "id": "d997dc23",
   "metadata": {},
   "outputs": [],
   "source": [
    "# need to fix index column"
   ]
  },
  {
   "cell_type": "code",
   "execution_count": 20,
   "id": "f549a37f",
   "metadata": {},
   "outputs": [],
   "source": [
    "pandasDF = spark_DF_En.toPandas()"
   ]
  },
  {
   "cell_type": "code",
   "execution_count": 21,
   "id": "6e9020be",
   "metadata": {},
   "outputs": [
    {
     "data": {
      "text/html": [
       "<div>\n",
       "<style scoped>\n",
       "    .dataframe tbody tr th:only-of-type {\n",
       "        vertical-align: middle;\n",
       "    }\n",
       "\n",
       "    .dataframe tbody tr th {\n",
       "        vertical-align: top;\n",
       "    }\n",
       "\n",
       "    .dataframe thead th {\n",
       "        text-align: right;\n",
       "    }\n",
       "</style>\n",
       "<table border=\"1\" class=\"dataframe\">\n",
       "  <thead>\n",
       "    <tr style=\"text-align: right;\">\n",
       "      <th></th>\n",
       "      <th>index</th>\n",
       "      <th>screen_name</th>\n",
       "      <th>date_time</th>\n",
       "      <th>text</th>\n",
       "      <th>retweeted</th>\n",
       "      <th>lang</th>\n",
       "    </tr>\n",
       "  </thead>\n",
       "  <tbody>\n",
       "    <tr>\n",
       "      <th>0</th>\n",
       "      <td>3</td>\n",
       "      <td>Zed18978371</td>\n",
       "      <td>2021-09-04 12:48:31.000000</td>\n",
       "      <td>@NorristownN @RolandStautz Yup - I’m the crazy...</td>\n",
       "      <td>0</td>\n",
       "      <td>en</td>\n",
       "    </tr>\n",
       "    <tr>\n",
       "      <th>1</th>\n",
       "      <td>1</td>\n",
       "      <td>TeslaOwls</td>\n",
       "      <td>2021-09-04 13:28:16.000000</td>\n",
       "      <td>@EconomicManBlog @pauluaq1 @jrtolver16 @Tesla ...</td>\n",
       "      <td>0</td>\n",
       "      <td>en</td>\n",
       "    </tr>\n",
       "    <tr>\n",
       "      <th>2</th>\n",
       "      <td>3</td>\n",
       "      <td>vin_wiesel</td>\n",
       "      <td>2021-09-04 13:28:11.000000</td>\n",
       "      <td>@nuc_geek Media: “TESLA CRASHES INTO BUILDING ...</td>\n",
       "      <td>0</td>\n",
       "      <td>en</td>\n",
       "    </tr>\n",
       "    <tr>\n",
       "      <th>3</th>\n",
       "      <td>4</td>\n",
       "      <td>Jeeeeee66023780</td>\n",
       "      <td>2021-09-04 13:28:09.000000</td>\n",
       "      <td>@TeslaAIBot @Tesla Why you have so many follow...</td>\n",
       "      <td>0</td>\n",
       "      <td>en</td>\n",
       "    </tr>\n",
       "    <tr>\n",
       "      <th>4</th>\n",
       "      <td>1</td>\n",
       "      <td>developrwannab</td>\n",
       "      <td>2021-09-04 13:28:53.000000</td>\n",
       "      <td>@ukspacebulletin Great thanks. Now I got to ad...</td>\n",
       "      <td>0</td>\n",
       "      <td>en</td>\n",
       "    </tr>\n",
       "    <tr>\n",
       "      <th>5</th>\n",
       "      <td>4</td>\n",
       "      <td>luke_deluxe</td>\n",
       "      <td>2021-09-04 13:28:44.000000</td>\n",
       "      <td>@MMarboni @RARpartners @TechInsider @OOIDA Fin...</td>\n",
       "      <td>0</td>\n",
       "      <td>en</td>\n",
       "    </tr>\n",
       "    <tr>\n",
       "      <th>6</th>\n",
       "      <td>1</td>\n",
       "      <td>developrwannab</td>\n",
       "      <td>2021-09-04 13:28:53.000000</td>\n",
       "      <td>@ukspacebulletin Great thanks. Now I got to ad...</td>\n",
       "      <td>0</td>\n",
       "      <td>en</td>\n",
       "    </tr>\n",
       "    <tr>\n",
       "      <th>7</th>\n",
       "      <td>4</td>\n",
       "      <td>luke_deluxe</td>\n",
       "      <td>2021-09-04 13:28:44.000000</td>\n",
       "      <td>@MMarboni @RARpartners @TechInsider @OOIDA Fin...</td>\n",
       "      <td>0</td>\n",
       "      <td>en</td>\n",
       "    </tr>\n",
       "  </tbody>\n",
       "</table>\n",
       "</div>"
      ],
      "text/plain": [
       "   index      screen_name                   date_time  \\\n",
       "0      3      Zed18978371  2021-09-04 12:48:31.000000   \n",
       "1      1        TeslaOwls  2021-09-04 13:28:16.000000   \n",
       "2      3       vin_wiesel  2021-09-04 13:28:11.000000   \n",
       "3      4  Jeeeeee66023780  2021-09-04 13:28:09.000000   \n",
       "4      1   developrwannab  2021-09-04 13:28:53.000000   \n",
       "5      4      luke_deluxe  2021-09-04 13:28:44.000000   \n",
       "6      1   developrwannab  2021-09-04 13:28:53.000000   \n",
       "7      4      luke_deluxe  2021-09-04 13:28:44.000000   \n",
       "\n",
       "                                                text  retweeted lang  \n",
       "0  @NorristownN @RolandStautz Yup - I’m the crazy...          0   en  \n",
       "1  @EconomicManBlog @pauluaq1 @jrtolver16 @Tesla ...          0   en  \n",
       "2  @nuc_geek Media: “TESLA CRASHES INTO BUILDING ...          0   en  \n",
       "3  @TeslaAIBot @Tesla Why you have so many follow...          0   en  \n",
       "4  @ukspacebulletin Great thanks. Now I got to ad...          0   en  \n",
       "5  @MMarboni @RARpartners @TechInsider @OOIDA Fin...          0   en  \n",
       "6  @ukspacebulletin Great thanks. Now I got to ad...          0   en  \n",
       "7  @MMarboni @RARpartners @TechInsider @OOIDA Fin...          0   en  "
      ]
     },
     "execution_count": 21,
     "metadata": {},
     "output_type": "execute_result"
    }
   ],
   "source": [
    "pandasDF"
   ]
  },
  {
   "cell_type": "code",
   "execution_count": 22,
   "id": "25744af7",
   "metadata": {},
   "outputs": [],
   "source": [
    "from sqlite3 import connect\n",
    "from sqlalchemy import create_engine"
   ]
  },
  {
   "cell_type": "code",
   "execution_count": 24,
   "id": "ec497037",
   "metadata": {},
   "outputs": [
    {
     "name": "stdout",
     "output_type": "stream",
     "text": [
      "2021-09-04 10:20:18,331 INFO sqlalchemy.engine.base.Engine SELECT CAST('test plain returns' AS VARCHAR(60)) AS anon_1\n",
      "2021-09-04 10:20:18,333 INFO sqlalchemy.engine.base.Engine ()\n",
      "2021-09-04 10:20:18,334 INFO sqlalchemy.engine.base.Engine SELECT CAST('test unicode returns' AS VARCHAR(60)) AS anon_1\n",
      "2021-09-04 10:20:18,345 INFO sqlalchemy.engine.base.Engine ()\n",
      "2021-09-04 10:20:18,355 INFO sqlalchemy.engine.base.Engine PRAGMA main.table_info(\"spark_cleaned\")\n",
      "2021-09-04 10:20:18,370 INFO sqlalchemy.engine.base.Engine ()\n",
      "2021-09-04 10:20:18,390 INFO sqlalchemy.engine.base.Engine PRAGMA main.table_info(\"spark_cleaned\")\n",
      "2021-09-04 10:20:18,401 INFO sqlalchemy.engine.base.Engine ()\n",
      "2021-09-04 10:20:18,408 INFO sqlalchemy.engine.base.Engine SELECT name FROM sqlite_master WHERE type='table' ORDER BY name\n",
      "2021-09-04 10:20:18,409 INFO sqlalchemy.engine.base.Engine ()\n",
      "2021-09-04 10:20:18,414 INFO sqlalchemy.engine.base.Engine PRAGMA main.table_xinfo(\"spark_cleaned\")\n",
      "2021-09-04 10:20:18,415 INFO sqlalchemy.engine.base.Engine ()\n",
      "2021-09-04 10:20:18,422 INFO sqlalchemy.engine.base.Engine SELECT sql FROM  (SELECT * FROM sqlite_master UNION ALL   SELECT * FROM sqlite_temp_master) WHERE name = ? AND type = 'table'\n",
      "2021-09-04 10:20:18,424 INFO sqlalchemy.engine.base.Engine ('spark_cleaned',)\n",
      "2021-09-04 10:20:18,430 INFO sqlalchemy.engine.base.Engine PRAGMA main.foreign_key_list(\"spark_cleaned\")\n",
      "2021-09-04 10:20:18,431 INFO sqlalchemy.engine.base.Engine ()\n",
      "2021-09-04 10:20:18,433 INFO sqlalchemy.engine.base.Engine PRAGMA temp.foreign_key_list(\"spark_cleaned\")\n",
      "2021-09-04 10:20:18,434 INFO sqlalchemy.engine.base.Engine ()\n",
      "2021-09-04 10:20:18,435 INFO sqlalchemy.engine.base.Engine SELECT sql FROM  (SELECT * FROM sqlite_master UNION ALL   SELECT * FROM sqlite_temp_master) WHERE name = ? AND type = 'table'\n",
      "2021-09-04 10:20:18,441 INFO sqlalchemy.engine.base.Engine ('spark_cleaned',)\n",
      "2021-09-04 10:20:18,446 INFO sqlalchemy.engine.base.Engine PRAGMA main.index_list(\"spark_cleaned\")\n",
      "2021-09-04 10:20:18,448 INFO sqlalchemy.engine.base.Engine ()\n",
      "2021-09-04 10:20:18,450 INFO sqlalchemy.engine.base.Engine PRAGMA main.index_info(\"ix_spark_cleaned_level_0\")\n",
      "2021-09-04 10:20:18,451 INFO sqlalchemy.engine.base.Engine ()\n",
      "2021-09-04 10:20:18,461 INFO sqlalchemy.engine.base.Engine PRAGMA main.index_list(\"spark_cleaned\")\n",
      "2021-09-04 10:20:18,465 INFO sqlalchemy.engine.base.Engine ()\n",
      "2021-09-04 10:20:18,471 INFO sqlalchemy.engine.base.Engine PRAGMA main.index_info(\"ix_spark_cleaned_level_0\")\n",
      "2021-09-04 10:20:18,476 INFO sqlalchemy.engine.base.Engine ()\n",
      "2021-09-04 10:20:18,481 INFO sqlalchemy.engine.base.Engine SELECT sql FROM  (SELECT * FROM sqlite_master UNION ALL   SELECT * FROM sqlite_temp_master) WHERE name = ? AND type = 'table'\n",
      "2021-09-04 10:20:18,483 INFO sqlalchemy.engine.base.Engine ('spark_cleaned',)\n",
      "2021-09-04 10:20:18,488 INFO sqlalchemy.engine.base.Engine \n",
      "DROP TABLE spark_cleaned\n",
      "2021-09-04 10:20:18,490 INFO sqlalchemy.engine.base.Engine ()\n",
      "2021-09-04 10:20:18,496 INFO sqlalchemy.engine.base.Engine COMMIT\n",
      "2021-09-04 10:20:18,498 INFO sqlalchemy.engine.base.Engine \n",
      "CREATE TABLE spark_cleaned (\n",
      "\tlevel_0 BIGINT, \n",
      "\t\"index\" BIGINT, \n",
      "\tscreen_name TEXT, \n",
      "\tdate_time TEXT, \n",
      "\ttext TEXT, \n",
      "\tretweeted BIGINT, \n",
      "\tlang TEXT\n",
      ")\n",
      "\n",
      "\n",
      "2021-09-04 10:20:18,500 INFO sqlalchemy.engine.base.Engine ()\n",
      "2021-09-04 10:20:18,504 INFO sqlalchemy.engine.base.Engine COMMIT\n",
      "2021-09-04 10:20:18,508 INFO sqlalchemy.engine.base.Engine CREATE INDEX ix_spark_cleaned_level_0 ON spark_cleaned (level_0)\n",
      "2021-09-04 10:20:18,510 INFO sqlalchemy.engine.base.Engine ()\n",
      "2021-09-04 10:20:18,515 INFO sqlalchemy.engine.base.Engine COMMIT\n",
      "2021-09-04 10:20:18,524 INFO sqlalchemy.engine.base.Engine BEGIN (implicit)\n",
      "2021-09-04 10:20:18,526 INFO sqlalchemy.engine.base.Engine INSERT INTO spark_cleaned (level_0, \"index\", screen_name, date_time, text, retweeted, lang) VALUES (?, ?, ?, ?, ?, ?, ?)\n",
      "2021-09-04 10:20:18,530 INFO sqlalchemy.engine.base.Engine ((0, 3, 'Zed18978371', '2021-09-04 12:48:31.000000', '@NorristownN @RolandStautz Yup - I’m the crazy crypto/Tesla guy..', 0, 'en'), (1, 1, 'TeslaOwls', '2021-09-04 13:28:16.000000', \"@EconomicManBlog @pauluaq1 @jrtolver16 @Tesla @ghost_scot I don't believe I ever claimed Tesla had great build quality on all their cars, that'd be a moronic statement\\nYou can check my tweets, that's the thing I'm critical of\\nThough, to be fair, new iterations of their factories are top level\", 0, 'en'), (2, 3, 'vin_wiesel', '2021-09-04 13:28:11.000000', '@nuc_geek Media: “TESLA CRASHES INTO BUILDING WHILE ON AUTO-PILOT!!!!!!!!!!!!!!!!!”', 0, 'en'), (3, 4, 'Jeeeeee66023780', '2021-09-04 13:28:09.000000', '@TeslaAIBot @Tesla Why you have so many followers ?', 0, 'en'), (4, 1, 'developrwannab', '2021-09-04 13:28:53.000000', \"@ukspacebulletin Great thanks. Now I got to add Tesla bot 🤔 So that's the kind of developer I am, a bit YouTube, Twitter and websites. \\nYes I checked it out, very hopefull and inspirational.\", 0, 'en'), (5, 4, 'luke_deluxe', '2021-09-04 13:28:44.000000', '@MMarboni @RARpartners @TechInsider @OOIDA Fine. Tesla should.', 0, 'en'), (6, 1, 'developrwannab', '2021-09-04 13:28:53.000000', \"@ukspacebulletin Great thanks. Now I got to add Tesla bot 🤔 So that's the kind of developer I am, a bit YouTube, Twitter and websites. \\nYes I checked it out, very hopefull and inspirational.\", 0, 'en'), (7, 4, 'luke_deluxe', '2021-09-04 13:28:44.000000', '@MMarboni @RARpartners @TechInsider @OOIDA Fine. Tesla should.', 0, 'en'))\n",
      "2021-09-04 10:20:18,535 INFO sqlalchemy.engine.base.Engine COMMIT\n"
     ]
    }
   ],
   "source": [
    "engine = create_engine('sqlite:///sentiment.db', echo = True)\n",
    "sqlite_connection = engine.connect()\n",
    "sqlite_table = \"spark_cleaned\"\n",
    "pandasDF.to_sql(sqlite_table, sqlite_connection, if_exists = 'replace')\n",
    "sqlite_connection.close()"
   ]
  },
  {
   "cell_type": "code",
   "execution_count": null,
   "id": "0eeaca14",
   "metadata": {},
   "outputs": [],
   "source": []
  }
 ],
 "metadata": {
  "kernelspec": {
   "display_name": "Python 3",
   "language": "python",
   "name": "python3"
  },
  "language_info": {
   "codemirror_mode": {
    "name": "ipython",
    "version": 3
   },
   "file_extension": ".py",
   "mimetype": "text/x-python",
   "name": "python",
   "nbconvert_exporter": "python",
   "pygments_lexer": "ipython3",
   "version": "3.8.8"
  }
 },
 "nbformat": 4,
 "nbformat_minor": 5
}
