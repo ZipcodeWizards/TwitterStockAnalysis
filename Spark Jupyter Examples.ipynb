{
 "cells": [
  {
   "cell_type": "code",
   "execution_count": 6,
   "id": "849ea121",
   "metadata": {},
   "outputs": [],
   "source": [
    "from pyspark.sql import SparkSession\n",
    "import pandas as pd\n",
    "import sqlite3"
   ]
  },
  {
   "cell_type": "code",
   "execution_count": 7,
   "id": "b7594864",
   "metadata": {},
   "outputs": [],
   "source": [
    "con = sqlite3.connect('sentiment.db')"
   ]
  },
  {
   "cell_type": "code",
   "execution_count": 8,
   "id": "a87422a6",
   "metadata": {},
   "outputs": [],
   "source": [
    "df = pd.read_sql_query(\"SELECT * FROM sentiment\", con)"
   ]
  },
  {
   "cell_type": "code",
   "execution_count": 9,
   "id": "c1f8c76a",
   "metadata": {},
   "outputs": [
    {
     "name": "stdout",
     "output_type": "stream",
     "text": [
      "   index      screen_name                   date_time  \\\n",
      "0      0  Gonzalo90479569  2021-09-04 00:35:07.000000   \n",
      "1      0  Gonzalo90479569  2021-09-04 00:35:07.000000   \n",
      "2      1      TiffanyEngr  2021-09-04 00:34:13.000000   \n",
      "3      2  austinpiercemma  2021-09-04 00:33:33.000000   \n",
      "4      3  justwantayogurt  2021-09-04 00:33:04.000000   \n",
      "\n",
      "                                                text  retweeted  \n",
      "0  RT @Fresh7Mack: What happened to $AMC $GME bei...          0  \n",
      "1  RT @Fresh7Mack: What happened to $AMC $GME bei...          0  \n",
      "2  $AMC: CG has gone off the rails.\\nThreatening ...          0  \n",
      "3  Technical Levels: GEVO Stock Analysis Breakdow...          0  \n",
      "4  RT @jkarn88: Already been on team #FuckBezos b...          0  \n"
     ]
    }
   ],
   "source": [
    "print(df.head())"
   ]
  },
  {
   "cell_type": "code",
   "execution_count": 10,
   "id": "8d907ea3",
   "metadata": {},
   "outputs": [
    {
     "ename": "NameError",
     "evalue": "name 'sc' is not defined",
     "output_type": "error",
     "traceback": [
      "\u001b[0;31m---------------------------------------------------------------------------\u001b[0m",
      "\u001b[0;31mNameError\u001b[0m                                 Traceback (most recent call last)",
      "\u001b[0;32m<ipython-input-10-0b52e24bf5ff>\u001b[0m in \u001b[0;36m<module>\u001b[0;34m\u001b[0m\n\u001b[0;32m----> 1\u001b[0;31m \u001b[0msc\u001b[0m\u001b[0;34m.\u001b[0m\u001b[0mversion\u001b[0m\u001b[0;34m\u001b[0m\u001b[0;34m\u001b[0m\u001b[0m\n\u001b[0m",
      "\u001b[0;31mNameError\u001b[0m: name 'sc' is not defined"
     ]
    }
   ],
   "source": [
    "sc.version"
   ]
  },
  {
   "cell_type": "code",
   "execution_count": null,
   "id": "5b65d0a3",
   "metadata": {},
   "outputs": [],
   "source": []
  }
 ],
 "metadata": {
  "kernelspec": {
   "display_name": "Python 3",
   "language": "python",
   "name": "python3"
  },
  "language_info": {
   "codemirror_mode": {
    "name": "ipython",
    "version": 3
   },
   "file_extension": ".py",
   "mimetype": "text/x-python",
   "name": "python",
   "nbconvert_exporter": "python",
   "pygments_lexer": "ipython3",
   "version": "3.8.8"
  }
 },
 "nbformat": 4,
 "nbformat_minor": 5
}
