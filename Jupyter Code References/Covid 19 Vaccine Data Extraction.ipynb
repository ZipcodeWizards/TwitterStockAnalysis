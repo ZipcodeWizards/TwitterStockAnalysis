{
 "cells": [
  {
   "cell_type": "code",
   "execution_count": 7,
   "id": "a50c57aa",
   "metadata": {},
   "outputs": [],
   "source": [
    "import tweepy\n",
    "import pandas as pd"
   ]
  },
  {
   "cell_type": "code",
   "execution_count": 8,
   "id": "6aaf73ab",
   "metadata": {},
   "outputs": [],
   "source": [
    "%run ./keys.ipynb\n",
    "auth = tweepy.OAuthHandler(consumer_key, consumer_secret)\n",
    "auth.set_access_token(access_token,access_token_secret)\n",
    "api = tweepy.API(auth)"
   ]
  },
  {
   "cell_type": "code",
   "execution_count": 14,
   "id": "295880c8",
   "metadata": {},
   "outputs": [],
   "source": [
    "cursor = tweepy.Cursor(api.search, q=\"covid19 covid vaccine\", tweet_mode = \"extended\").items(1)"
   ]
  },
  {
   "cell_type": "code",
   "execution_count": 15,
   "id": "9b1e9587",
   "metadata": {},
   "outputs": [
    {
     "name": "stdout",
     "output_type": "stream",
     "text": [
      "RT @MW3NewsPortal: BBC Presenter Lisa Shaw And Brazilian Lawyer Bruno Graf Died From Complications Caused By Vaccine.\n",
      "\n",
      "#covid #Covid19 #new…\n"
     ]
    }
   ],
   "source": [
    "for i in cursor:\n",
    "    print(i.full_text)"
   ]
  },
  {
   "cell_type": "code",
   "execution_count": null,
   "id": "6c632316",
   "metadata": {},
   "outputs": [],
   "source": [
    "numOfTweets = 200\n",
    "username = []\n",
    "location = []\n",
    "tweets = []\n",
    "likes = []\n",
    "time = []\n",
    "\n",
    "for i in tweepy.Cursor(api.search, q= \"covid19 covid vaccine\", tweet_mode = \"extended\").items(numOfTweets)\n",
    "    username.append "
   ]
  }
 ],
 "metadata": {
  "kernelspec": {
   "display_name": "Python 3",
   "language": "python",
   "name": "python3"
  },
  "language_info": {
   "codemirror_mode": {
    "name": "ipython",
    "version": 3
   },
   "file_extension": ".py",
   "mimetype": "text/x-python",
   "name": "python",
   "nbconvert_exporter": "python",
   "pygments_lexer": "ipython3",
   "version": "3.8.8"
  }
 },
 "nbformat": 4,
 "nbformat_minor": 5
}
