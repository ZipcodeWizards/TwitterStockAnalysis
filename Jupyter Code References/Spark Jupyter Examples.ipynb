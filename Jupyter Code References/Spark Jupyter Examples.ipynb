{
 "cells": [
  {
   "cell_type": "code",
   "execution_count": 25,
   "id": "9d4e9d40",
   "metadata": {},
   "outputs": [],
   "source": [
    "from pyspark.sql import SparkSession\n",
    "from pyspark.sql import column\n",
    "import pandas as pd\n",
    "import sqlite3"
   ]
  },
  {
   "cell_type": "code",
   "execution_count": 26,
   "id": "67089796",
   "metadata": {},
   "outputs": [],
   "source": [
    "con = sqlite3.connect('sentiment.db')"
   ]
  },
  {
   "cell_type": "code",
   "execution_count": 27,
   "id": "303a048a",
   "metadata": {},
   "outputs": [
    {
     "data": {
      "text/plain": [
       "Index(['index', 'screen_name', 'date_time', 'text', 'retweeted', 'lang'], dtype='object')"
      ]
     },
     "execution_count": 27,
     "metadata": {},
     "output_type": "execute_result"
    }
   ],
   "source": [
    "df = pd.read_sql_query(\"SELECT * FROM sentiment\", con)\n",
    "df.columns"
   ]
  },
  {
   "cell_type": "code",
   "execution_count": 28,
   "id": "202910b6",
   "metadata": {},
   "outputs": [
    {
     "name": "stdout",
     "output_type": "stream",
     "text": [
      "<bound method NDFrame.head of     index      screen_name                   date_time  \\\n",
      "0       0      ethayes2010  2021-09-04 12:48:33.000000   \n",
      "1       1     ihave5broats  2021-09-04 12:48:31.000000   \n",
      "2       2   ToasterJessica  2021-09-04 12:48:31.000000   \n",
      "3       3      Zed18978371  2021-09-04 12:48:31.000000   \n",
      "4       4      GunPangSSam  2021-09-04 12:48:30.000000   \n",
      "5       0          Kahv6m7  2021-09-04 13:28:17.000000   \n",
      "6       1        TeslaOwls  2021-09-04 13:28:16.000000   \n",
      "7       2        andyro233  2021-09-04 13:28:15.000000   \n",
      "8       3       vin_wiesel  2021-09-04 13:28:11.000000   \n",
      "9       4  Jeeeeee66023780  2021-09-04 13:28:09.000000   \n",
      "10      0    Coinhustler84  2021-09-04 13:28:57.000000   \n",
      "11      1   developrwannab  2021-09-04 13:28:53.000000   \n",
      "12      2     FuBo19562152  2021-09-04 13:28:47.000000   \n",
      "13      3    kotoMxSamurai  2021-09-04 13:28:47.000000   \n",
      "14      4      luke_deluxe  2021-09-04 13:28:44.000000   \n",
      "15      0    Coinhustler84  2021-09-04 13:28:57.000000   \n",
      "16      1   developrwannab  2021-09-04 13:28:53.000000   \n",
      "17      2     FuBo19562152  2021-09-04 13:28:47.000000   \n",
      "18      3    kotoMxSamurai  2021-09-04 13:28:47.000000   \n",
      "19      4      luke_deluxe  2021-09-04 13:28:44.000000   \n",
      "20      0    lordhyperkill  2021-09-04 14:52:30.000000   \n",
      "21      1       barryagall  2021-09-04 14:52:29.000000   \n",
      "22      2           jpr007  2021-09-04 14:52:29.000000   \n",
      "23      3      artmusicfan  2021-09-04 14:52:23.000000   \n",
      "24      4      AstroPcfliu  2021-09-04 14:52:20.000000   \n",
      "\n",
      "                                                 text  retweeted lang  \n",
      "0   RT @ethayes2010: @CityofTelosa @MarcLore Final...          0   en  \n",
      "1                        @SamR33v3s New Tesla models.          0   ca  \n",
      "2   RT @basetankrs: Tesla’s are expensive because ...          0   en  \n",
      "3   @NorristownN @RolandStautz Yup - I’m the crazy...          0   en  \n",
      "4   @tesla_somac 저도 같은마음 입니다.\\n대전.충남경선보고 속상한맘에 신랑과...          0   ko  \n",
      "5   RT @DusundukceVariz: “O kadar cahilsiniz ki, d...          0   tr  \n",
      "6   @EconomicManBlog @pauluaq1 @jrtolver16 @Tesla ...          0   en  \n",
      "7   @javielon95 @foroelectricos @GroupeRenaultEV @...          0   es  \n",
      "8   @nuc_geek Media: “TESLA CRASHES INTO BUILDING ...          0   en  \n",
      "9   @TeslaAIBot @Tesla Why you have so many follow...          0   en  \n",
      "10  RT @TeslaAIBot: Humans, \\nThis is my favorite ...          0   en  \n",
      "11  @ukspacebulletin Great thanks. Now I got to ad...          0   en  \n",
      "12  RT @ChineseWSJ: #本周热读 尽管目前没有迹象表明台海冲突会很快爆发，但局势已...          0   zh  \n",
      "13  RT @afrooo_samurai: @Life_Is_Greater @HodlToke...          0  und  \n",
      "14  @MMarboni @RARpartners @TechInsider @OOIDA Fin...          0   en  \n",
      "15  RT @TeslaAIBot: Humans, \\nThis is my favorite ...          0   en  \n",
      "16  @ukspacebulletin Great thanks. Now I got to ad...          0   en  \n",
      "17  RT @ChineseWSJ: #本周热读 尽管目前没有迹象表明台海冲突会很快爆发，但局势已...          0   zh  \n",
      "18  RT @afrooo_samurai: @Life_Is_Greater @HodlToke...          0  und  \n",
      "19  @MMarboni @RARpartners @TechInsider @OOIDA Fin...          0   en  \n",
      "20  @tylertootatted @TheSmokingTire That’s a real ...          0   en  \n",
      "21                 @jrtolver16 @Tesla White interior.          0   en  \n",
      "22  RT @terjeholden: @jpr007 @EVfuture3 And the pa...          0   en  \n",
      "23  @TorontoStar @VP @POTUS @NHTSAgov @ConsumerRep...          0  und  \n",
      "24  RT @elonmusk: @truth_tesla @LimitingThe Yes. \\...          0   en  >\n"
     ]
    }
   ],
   "source": [
    "print(df.head)"
   ]
  },
  {
   "cell_type": "code",
   "execution_count": 45,
   "id": "5c0b5826",
   "metadata": {},
   "outputs": [],
   "source": [
    "spark = SparkSession.builder \\\n",
    "    .master(\"local[1]\") \\\n",
    "    .appName(\"Tesla Tweets\") \\\n",
    "    .getOrCreate()"
   ]
  },
  {
   "cell_type": "code",
   "execution_count": 30,
   "id": "20bb64fd",
   "metadata": {},
   "outputs": [
    {
     "name": "stdout",
     "output_type": "stream",
     "text": [
      "root\n",
      " |-- index: long (nullable = true)\n",
      " |-- screen_name: string (nullable = true)\n",
      " |-- date_time: string (nullable = true)\n",
      " |-- text: string (nullable = true)\n",
      " |-- retweeted: long (nullable = true)\n",
      " |-- lang: string (nullable = true)\n",
      "\n"
     ]
    }
   ],
   "source": [
    "sparkDF = spark.createDataFrame(df)\n",
    "sparkDF.printSchema()"
   ]
  },
  {
   "cell_type": "code",
   "execution_count": 31,
   "id": "42643424",
   "metadata": {},
   "outputs": [
    {
     "name": "stdout",
     "output_type": "stream",
     "text": [
      "+-----+---------------+--------------------+-----------------------+---------+----+\n",
      "|index|    screen_name|           date_time|                   text|retweeted|lang|\n",
      "+-----+---------------+--------------------+-----------------------+---------+----+\n",
      "|    0|    ethayes2010|2021-09-04 12:48:...|   RT @ethayes2010: ...|        0|  en|\n",
      "|    1|   ihave5broats|2021-09-04 12:48:...|   @SamR33v3s New Te...|        0|  ca|\n",
      "|    2| ToasterJessica|2021-09-04 12:48:...|   RT @basetankrs: T...|        0|  en|\n",
      "|    3|    Zed18978371|2021-09-04 12:48:...|   @NorristownN @Rol...|        0|  en|\n",
      "|    4|    GunPangSSam|2021-09-04 12:48:...|@tesla_somac 저도 같...|        0|  ko|\n",
      "|    0|        Kahv6m7|2021-09-04 13:28:...|   RT @DusundukceVar...|        0|  tr|\n",
      "|    1|      TeslaOwls|2021-09-04 13:28:...|   @EconomicManBlog ...|        0|  en|\n",
      "|    2|      andyro233|2021-09-04 13:28:...|   @javielon95 @foro...|        0|  es|\n",
      "|    3|     vin_wiesel|2021-09-04 13:28:...|   @nuc_geek Media: ...|        0|  en|\n",
      "|    4|Jeeeeee66023780|2021-09-04 13:28:...|   @TeslaAIBot @Tesl...|        0|  en|\n",
      "|    0|  Coinhustler84|2021-09-04 13:28:...|   RT @TeslaAIBot: H...|        0|  en|\n",
      "|    1| developrwannab|2021-09-04 13:28:...|   @ukspacebulletin ...|        0|  en|\n",
      "|    2|   FuBo19562152|2021-09-04 13:28:...|   RT @ChineseWSJ: #...|        0|  zh|\n",
      "|    3|  kotoMxSamurai|2021-09-04 13:28:...|   RT @afrooo_samura...|        0| und|\n",
      "|    4|    luke_deluxe|2021-09-04 13:28:...|   @MMarboni @RARpar...|        0|  en|\n",
      "|    0|  Coinhustler84|2021-09-04 13:28:...|   RT @TeslaAIBot: H...|        0|  en|\n",
      "|    1| developrwannab|2021-09-04 13:28:...|   @ukspacebulletin ...|        0|  en|\n",
      "|    2|   FuBo19562152|2021-09-04 13:28:...|   RT @ChineseWSJ: #...|        0|  zh|\n",
      "|    3|  kotoMxSamurai|2021-09-04 13:28:...|   RT @afrooo_samura...|        0| und|\n",
      "|    4|    luke_deluxe|2021-09-04 13:28:...|   @MMarboni @RARpar...|        0|  en|\n",
      "+-----+---------------+--------------------+-----------------------+---------+----+\n",
      "only showing top 20 rows\n",
      "\n"
     ]
    }
   ],
   "source": [
    "sparkDF.show()"
   ]
  },
  {
   "cell_type": "code",
   "execution_count": 32,
   "id": "c7f2a01b",
   "metadata": {},
   "outputs": [],
   "source": [
    "sparkDFnoRT = sparkDF.filter(~sparkDF.text.startswith('RT'))\n",
    "spark_DF_En = sparkDFnoRT.filter(sparkDFnoRT.lang.contains('en'))\n",
    "# drop column index\n",
    "spark_DF_No_index = spark_DF_En.drop('index')\n",
    "\n",
    "# df.filter(df.name.startswith('Al')).collect()"
   ]
  },
  {
   "cell_type": "code",
   "execution_count": 33,
   "id": "25130f13",
   "metadata": {},
   "outputs": [
    {
     "name": "stdout",
     "output_type": "stream",
     "text": [
      "+-----+---------------+--------------------+-----------------------+---------+----+\n",
      "|index|    screen_name|           date_time|                   text|retweeted|lang|\n",
      "+-----+---------------+--------------------+-----------------------+---------+----+\n",
      "|    1|   ihave5broats|2021-09-04 12:48:...|   @SamR33v3s New Te...|        0|  ca|\n",
      "|    3|    Zed18978371|2021-09-04 12:48:...|   @NorristownN @Rol...|        0|  en|\n",
      "|    4|    GunPangSSam|2021-09-04 12:48:...|@tesla_somac 저도 같...|        0|  ko|\n",
      "|    1|      TeslaOwls|2021-09-04 13:28:...|   @EconomicManBlog ...|        0|  en|\n",
      "|    2|      andyro233|2021-09-04 13:28:...|   @javielon95 @foro...|        0|  es|\n",
      "|    3|     vin_wiesel|2021-09-04 13:28:...|   @nuc_geek Media: ...|        0|  en|\n",
      "|    4|Jeeeeee66023780|2021-09-04 13:28:...|   @TeslaAIBot @Tesl...|        0|  en|\n",
      "|    1| developrwannab|2021-09-04 13:28:...|   @ukspacebulletin ...|        0|  en|\n",
      "|    4|    luke_deluxe|2021-09-04 13:28:...|   @MMarboni @RARpar...|        0|  en|\n",
      "|    1| developrwannab|2021-09-04 13:28:...|   @ukspacebulletin ...|        0|  en|\n",
      "|    4|    luke_deluxe|2021-09-04 13:28:...|   @MMarboni @RARpar...|        0|  en|\n",
      "|    0|  lordhyperkill|2021-09-04 14:52:...|   @tylertootatted @...|        0|  en|\n",
      "|    1|     barryagall|2021-09-04 14:52:...|   @jrtolver16 @Tesl...|        0|  en|\n",
      "|    3|    artmusicfan|2021-09-04 14:52:...|   @TorontoStar @VP ...|        0| und|\n",
      "+-----+---------------+--------------------+-----------------------+---------+----+\n",
      "\n"
     ]
    }
   ],
   "source": [
    "sparkDFnoRT.show()"
   ]
  },
  {
   "cell_type": "code",
   "execution_count": 34,
   "id": "df4ae1f7",
   "metadata": {},
   "outputs": [
    {
     "name": "stdout",
     "output_type": "stream",
     "text": [
      "+-----+---------------+--------------------+--------------------+---------+----+\n",
      "|index|    screen_name|           date_time|                text|retweeted|lang|\n",
      "+-----+---------------+--------------------+--------------------+---------+----+\n",
      "|    3|    Zed18978371|2021-09-04 12:48:...|@NorristownN @Rol...|        0|  en|\n",
      "|    1|      TeslaOwls|2021-09-04 13:28:...|@EconomicManBlog ...|        0|  en|\n",
      "|    3|     vin_wiesel|2021-09-04 13:28:...|@nuc_geek Media: ...|        0|  en|\n",
      "|    4|Jeeeeee66023780|2021-09-04 13:28:...|@TeslaAIBot @Tesl...|        0|  en|\n",
      "|    1| developrwannab|2021-09-04 13:28:...|@ukspacebulletin ...|        0|  en|\n",
      "|    4|    luke_deluxe|2021-09-04 13:28:...|@MMarboni @RARpar...|        0|  en|\n",
      "|    1| developrwannab|2021-09-04 13:28:...|@ukspacebulletin ...|        0|  en|\n",
      "|    4|    luke_deluxe|2021-09-04 13:28:...|@MMarboni @RARpar...|        0|  en|\n",
      "|    0|  lordhyperkill|2021-09-04 14:52:...|@tylertootatted @...|        0|  en|\n",
      "|    1|     barryagall|2021-09-04 14:52:...|@jrtolver16 @Tesl...|        0|  en|\n",
      "+-----+---------------+--------------------+--------------------+---------+----+\n",
      "\n"
     ]
    }
   ],
   "source": [
    "spark_DF_En.show()"
   ]
  },
  {
   "cell_type": "code",
   "execution_count": 38,
   "id": "3b812380",
   "metadata": {},
   "outputs": [
    {
     "name": "stdout",
     "output_type": "stream",
     "text": [
      "+---------------+--------------------+--------------------+---------+----+\n",
      "|    screen_name|           date_time|                text|retweeted|lang|\n",
      "+---------------+--------------------+--------------------+---------+----+\n",
      "|    Zed18978371|2021-09-04 12:48:...|@NorristownN @Rol...|        0|  en|\n",
      "|      TeslaOwls|2021-09-04 13:28:...|@EconomicManBlog ...|        0|  en|\n",
      "|     vin_wiesel|2021-09-04 13:28:...|@nuc_geek Media: ...|        0|  en|\n",
      "|Jeeeeee66023780|2021-09-04 13:28:...|@TeslaAIBot @Tesl...|        0|  en|\n",
      "| developrwannab|2021-09-04 13:28:...|@ukspacebulletin ...|        0|  en|\n",
      "|    luke_deluxe|2021-09-04 13:28:...|@MMarboni @RARpar...|        0|  en|\n",
      "| developrwannab|2021-09-04 13:28:...|@ukspacebulletin ...|        0|  en|\n",
      "|    luke_deluxe|2021-09-04 13:28:...|@MMarboni @RARpar...|        0|  en|\n",
      "|  lordhyperkill|2021-09-04 14:52:...|@tylertootatted @...|        0|  en|\n",
      "|     barryagall|2021-09-04 14:52:...|@jrtolver16 @Tesl...|        0|  en|\n",
      "+---------------+--------------------+--------------------+---------+----+\n",
      "\n"
     ]
    }
   ],
   "source": [
    "# need to fix index column\n",
    "\n",
    "spark_DF_No_index.show()"
   ]
  },
  {
   "cell_type": "code",
   "execution_count": 41,
   "id": "bbfe501e",
   "metadata": {},
   "outputs": [],
   "source": [
    "pandasDF = spark_DF_No_index.toPandas()"
   ]
  },
  {
   "cell_type": "code",
   "execution_count": 42,
   "id": "e644cb44",
   "metadata": {},
   "outputs": [
    {
     "data": {
      "text/html": [
       "<div>\n",
       "<style scoped>\n",
       "    .dataframe tbody tr th:only-of-type {\n",
       "        vertical-align: middle;\n",
       "    }\n",
       "\n",
       "    .dataframe tbody tr th {\n",
       "        vertical-align: top;\n",
       "    }\n",
       "\n",
       "    .dataframe thead th {\n",
       "        text-align: right;\n",
       "    }\n",
       "</style>\n",
       "<table border=\"1\" class=\"dataframe\">\n",
       "  <thead>\n",
       "    <tr style=\"text-align: right;\">\n",
       "      <th></th>\n",
       "      <th>screen_name</th>\n",
       "      <th>date_time</th>\n",
       "      <th>text</th>\n",
       "      <th>retweeted</th>\n",
       "      <th>lang</th>\n",
       "    </tr>\n",
       "  </thead>\n",
       "  <tbody>\n",
       "    <tr>\n",
       "      <th>0</th>\n",
       "      <td>Zed18978371</td>\n",
       "      <td>2021-09-04 12:48:31.000000</td>\n",
       "      <td>@NorristownN @RolandStautz Yup - I’m the crazy...</td>\n",
       "      <td>0</td>\n",
       "      <td>en</td>\n",
       "    </tr>\n",
       "    <tr>\n",
       "      <th>1</th>\n",
       "      <td>TeslaOwls</td>\n",
       "      <td>2021-09-04 13:28:16.000000</td>\n",
       "      <td>@EconomicManBlog @pauluaq1 @jrtolver16 @Tesla ...</td>\n",
       "      <td>0</td>\n",
       "      <td>en</td>\n",
       "    </tr>\n",
       "    <tr>\n",
       "      <th>2</th>\n",
       "      <td>vin_wiesel</td>\n",
       "      <td>2021-09-04 13:28:11.000000</td>\n",
       "      <td>@nuc_geek Media: “TESLA CRASHES INTO BUILDING ...</td>\n",
       "      <td>0</td>\n",
       "      <td>en</td>\n",
       "    </tr>\n",
       "    <tr>\n",
       "      <th>3</th>\n",
       "      <td>Jeeeeee66023780</td>\n",
       "      <td>2021-09-04 13:28:09.000000</td>\n",
       "      <td>@TeslaAIBot @Tesla Why you have so many follow...</td>\n",
       "      <td>0</td>\n",
       "      <td>en</td>\n",
       "    </tr>\n",
       "    <tr>\n",
       "      <th>4</th>\n",
       "      <td>developrwannab</td>\n",
       "      <td>2021-09-04 13:28:53.000000</td>\n",
       "      <td>@ukspacebulletin Great thanks. Now I got to ad...</td>\n",
       "      <td>0</td>\n",
       "      <td>en</td>\n",
       "    </tr>\n",
       "    <tr>\n",
       "      <th>5</th>\n",
       "      <td>luke_deluxe</td>\n",
       "      <td>2021-09-04 13:28:44.000000</td>\n",
       "      <td>@MMarboni @RARpartners @TechInsider @OOIDA Fin...</td>\n",
       "      <td>0</td>\n",
       "      <td>en</td>\n",
       "    </tr>\n",
       "    <tr>\n",
       "      <th>6</th>\n",
       "      <td>developrwannab</td>\n",
       "      <td>2021-09-04 13:28:53.000000</td>\n",
       "      <td>@ukspacebulletin Great thanks. Now I got to ad...</td>\n",
       "      <td>0</td>\n",
       "      <td>en</td>\n",
       "    </tr>\n",
       "    <tr>\n",
       "      <th>7</th>\n",
       "      <td>luke_deluxe</td>\n",
       "      <td>2021-09-04 13:28:44.000000</td>\n",
       "      <td>@MMarboni @RARpartners @TechInsider @OOIDA Fin...</td>\n",
       "      <td>0</td>\n",
       "      <td>en</td>\n",
       "    </tr>\n",
       "    <tr>\n",
       "      <th>8</th>\n",
       "      <td>lordhyperkill</td>\n",
       "      <td>2021-09-04 14:52:30.000000</td>\n",
       "      <td>@tylertootatted @TheSmokingTire That’s a real ...</td>\n",
       "      <td>0</td>\n",
       "      <td>en</td>\n",
       "    </tr>\n",
       "    <tr>\n",
       "      <th>9</th>\n",
       "      <td>barryagall</td>\n",
       "      <td>2021-09-04 14:52:29.000000</td>\n",
       "      <td>@jrtolver16 @Tesla White interior.</td>\n",
       "      <td>0</td>\n",
       "      <td>en</td>\n",
       "    </tr>\n",
       "  </tbody>\n",
       "</table>\n",
       "</div>"
      ],
      "text/plain": [
       "       screen_name                   date_time  \\\n",
       "0      Zed18978371  2021-09-04 12:48:31.000000   \n",
       "1        TeslaOwls  2021-09-04 13:28:16.000000   \n",
       "2       vin_wiesel  2021-09-04 13:28:11.000000   \n",
       "3  Jeeeeee66023780  2021-09-04 13:28:09.000000   \n",
       "4   developrwannab  2021-09-04 13:28:53.000000   \n",
       "5      luke_deluxe  2021-09-04 13:28:44.000000   \n",
       "6   developrwannab  2021-09-04 13:28:53.000000   \n",
       "7      luke_deluxe  2021-09-04 13:28:44.000000   \n",
       "8    lordhyperkill  2021-09-04 14:52:30.000000   \n",
       "9       barryagall  2021-09-04 14:52:29.000000   \n",
       "\n",
       "                                                text  retweeted lang  \n",
       "0  @NorristownN @RolandStautz Yup - I’m the crazy...          0   en  \n",
       "1  @EconomicManBlog @pauluaq1 @jrtolver16 @Tesla ...          0   en  \n",
       "2  @nuc_geek Media: “TESLA CRASHES INTO BUILDING ...          0   en  \n",
       "3  @TeslaAIBot @Tesla Why you have so many follow...          0   en  \n",
       "4  @ukspacebulletin Great thanks. Now I got to ad...          0   en  \n",
       "5  @MMarboni @RARpartners @TechInsider @OOIDA Fin...          0   en  \n",
       "6  @ukspacebulletin Great thanks. Now I got to ad...          0   en  \n",
       "7  @MMarboni @RARpartners @TechInsider @OOIDA Fin...          0   en  \n",
       "8  @tylertootatted @TheSmokingTire That’s a real ...          0   en  \n",
       "9                 @jrtolver16 @Tesla White interior.          0   en  "
      ]
     },
     "execution_count": 42,
     "metadata": {},
     "output_type": "execute_result"
    }
   ],
   "source": [
    "pandasDF"
   ]
  },
  {
   "cell_type": "code",
   "execution_count": 43,
   "id": "9a9405b2",
   "metadata": {},
   "outputs": [],
   "source": [
    "from sqlite3 import connect\n",
    "from sqlalchemy import create_engine"
   ]
  },
  {
   "cell_type": "code",
   "execution_count": 44,
   "id": "d1adc126",
   "metadata": {},
   "outputs": [
    {
     "name": "stdout",
     "output_type": "stream",
     "text": [
      "2021-09-05 13:40:12,948 INFO sqlalchemy.engine.base.Engine SELECT CAST('test plain returns' AS VARCHAR(60)) AS anon_1\n",
      "2021-09-05 13:40:12,952 INFO sqlalchemy.engine.base.Engine ()\n",
      "2021-09-05 13:40:12,955 INFO sqlalchemy.engine.base.Engine SELECT CAST('test unicode returns' AS VARCHAR(60)) AS anon_1\n",
      "2021-09-05 13:40:12,956 INFO sqlalchemy.engine.base.Engine ()\n",
      "2021-09-05 13:40:12,969 INFO sqlalchemy.engine.base.Engine PRAGMA main.table_info(\"spark_cleaned\")\n",
      "2021-09-05 13:40:12,974 INFO sqlalchemy.engine.base.Engine ()\n",
      "2021-09-05 13:40:12,993 INFO sqlalchemy.engine.base.Engine PRAGMA main.table_info(\"spark_cleaned\")\n",
      "2021-09-05 13:40:13,012 INFO sqlalchemy.engine.base.Engine ()\n",
      "2021-09-05 13:40:13,015 INFO sqlalchemy.engine.base.Engine SELECT name FROM sqlite_master WHERE type='table' ORDER BY name\n",
      "2021-09-05 13:40:13,019 INFO sqlalchemy.engine.base.Engine ()\n",
      "2021-09-05 13:40:13,027 INFO sqlalchemy.engine.base.Engine PRAGMA main.table_xinfo(\"spark_cleaned\")\n",
      "2021-09-05 13:40:13,029 INFO sqlalchemy.engine.base.Engine ()\n",
      "2021-09-05 13:40:13,033 INFO sqlalchemy.engine.base.Engine SELECT sql FROM  (SELECT * FROM sqlite_master UNION ALL   SELECT * FROM sqlite_temp_master) WHERE name = ? AND type = 'table'\n",
      "2021-09-05 13:40:13,034 INFO sqlalchemy.engine.base.Engine ('spark_cleaned',)\n",
      "2021-09-05 13:40:13,037 INFO sqlalchemy.engine.base.Engine PRAGMA main.foreign_key_list(\"spark_cleaned\")\n",
      "2021-09-05 13:40:13,038 INFO sqlalchemy.engine.base.Engine ()\n",
      "2021-09-05 13:40:13,040 INFO sqlalchemy.engine.base.Engine PRAGMA temp.foreign_key_list(\"spark_cleaned\")\n",
      "2021-09-05 13:40:13,041 INFO sqlalchemy.engine.base.Engine ()\n",
      "2021-09-05 13:40:13,042 INFO sqlalchemy.engine.base.Engine SELECT sql FROM  (SELECT * FROM sqlite_master UNION ALL   SELECT * FROM sqlite_temp_master) WHERE name = ? AND type = 'table'\n",
      "2021-09-05 13:40:13,043 INFO sqlalchemy.engine.base.Engine ('spark_cleaned',)\n",
      "2021-09-05 13:40:13,047 INFO sqlalchemy.engine.base.Engine PRAGMA main.index_list(\"spark_cleaned\")\n",
      "2021-09-05 13:40:13,048 INFO sqlalchemy.engine.base.Engine ()\n",
      "2021-09-05 13:40:13,051 INFO sqlalchemy.engine.base.Engine PRAGMA main.index_info(\"ix_spark_cleaned_level_0\")\n",
      "2021-09-05 13:40:13,053 INFO sqlalchemy.engine.base.Engine ()\n",
      "2021-09-05 13:40:13,057 INFO sqlalchemy.engine.base.Engine PRAGMA main.index_list(\"spark_cleaned\")\n",
      "2021-09-05 13:40:13,059 INFO sqlalchemy.engine.base.Engine ()\n",
      "2021-09-05 13:40:13,061 INFO sqlalchemy.engine.base.Engine PRAGMA main.index_info(\"ix_spark_cleaned_level_0\")\n",
      "2021-09-05 13:40:13,062 INFO sqlalchemy.engine.base.Engine ()\n",
      "2021-09-05 13:40:13,064 INFO sqlalchemy.engine.base.Engine SELECT sql FROM  (SELECT * FROM sqlite_master UNION ALL   SELECT * FROM sqlite_temp_master) WHERE name = ? AND type = 'table'\n",
      "2021-09-05 13:40:13,065 INFO sqlalchemy.engine.base.Engine ('spark_cleaned',)\n",
      "2021-09-05 13:40:13,069 INFO sqlalchemy.engine.base.Engine \n",
      "DROP TABLE spark_cleaned\n",
      "2021-09-05 13:40:13,071 INFO sqlalchemy.engine.base.Engine ()\n",
      "2021-09-05 13:40:13,085 INFO sqlalchemy.engine.base.Engine COMMIT\n",
      "2021-09-05 13:40:13,102 INFO sqlalchemy.engine.base.Engine \n",
      "CREATE TABLE spark_cleaned (\n",
      "\t\"index\" BIGINT, \n",
      "\tscreen_name TEXT, \n",
      "\tdate_time TEXT, \n",
      "\ttext TEXT, \n",
      "\tretweeted BIGINT, \n",
      "\tlang TEXT\n",
      ")\n",
      "\n",
      "\n",
      "2021-09-05 13:40:13,108 INFO sqlalchemy.engine.base.Engine ()\n",
      "2021-09-05 13:40:13,118 INFO sqlalchemy.engine.base.Engine COMMIT\n",
      "2021-09-05 13:40:13,120 INFO sqlalchemy.engine.base.Engine CREATE INDEX ix_spark_cleaned_index ON spark_cleaned (\"index\")\n",
      "2021-09-05 13:40:13,121 INFO sqlalchemy.engine.base.Engine ()\n",
      "2021-09-05 13:40:13,124 INFO sqlalchemy.engine.base.Engine COMMIT\n",
      "2021-09-05 13:40:13,152 INFO sqlalchemy.engine.base.Engine BEGIN (implicit)\n",
      "2021-09-05 13:40:13,166 INFO sqlalchemy.engine.base.Engine INSERT INTO spark_cleaned (\"index\", screen_name, date_time, text, retweeted, lang) VALUES (?, ?, ?, ?, ?, ?)\n",
      "2021-09-05 13:40:13,180 INFO sqlalchemy.engine.base.Engine ((0, 'Zed18978371', '2021-09-04 12:48:31.000000', '@NorristownN @RolandStautz Yup - I’m the crazy crypto/Tesla guy..', 0, 'en'), (1, 'TeslaOwls', '2021-09-04 13:28:16.000000', \"@EconomicManBlog @pauluaq1 @jrtolver16 @Tesla @ghost_scot I don't believe I ever claimed Tesla had great build quality on all their cars, that'd be a moronic statement\\nYou can check my tweets, that's the thing I'm critical of\\nThough, to be fair, new iterations of their factories are top level\", 0, 'en'), (2, 'vin_wiesel', '2021-09-04 13:28:11.000000', '@nuc_geek Media: “TESLA CRASHES INTO BUILDING WHILE ON AUTO-PILOT!!!!!!!!!!!!!!!!!”', 0, 'en'), (3, 'Jeeeeee66023780', '2021-09-04 13:28:09.000000', '@TeslaAIBot @Tesla Why you have so many followers ?', 0, 'en'), (4, 'developrwannab', '2021-09-04 13:28:53.000000', \"@ukspacebulletin Great thanks. Now I got to add Tesla bot 🤔 So that's the kind of developer I am, a bit YouTube, Twitter and websites. \\nYes I checked it out, very hopefull and inspirational.\", 0, 'en'), (5, 'luke_deluxe', '2021-09-04 13:28:44.000000', '@MMarboni @RARpartners @TechInsider @OOIDA Fine. Tesla should.', 0, 'en'), (6, 'developrwannab', '2021-09-04 13:28:53.000000', \"@ukspacebulletin Great thanks. Now I got to add Tesla bot 🤔 So that's the kind of developer I am, a bit YouTube, Twitter and websites. \\nYes I checked it out, very hopefull and inspirational.\", 0, 'en'), (7, 'luke_deluxe', '2021-09-04 13:28:44.000000', '@MMarboni @RARpartners @TechInsider @OOIDA Fine. Tesla should.', 0, 'en'), (8, 'lordhyperkill', '2021-09-04 14:52:30.000000', '@tylertootatted @TheSmokingTire That’s a real thing? Whenever I have heard about it I thought people were joking. Jesus Christ people will buy anything. Next you will see Tesla’s with just a flight stick or a wireless six axis game pad you can use from the rear seats.', 0, 'en'), (9, 'barryagall', '2021-09-04 14:52:29.000000', '@jrtolver16 @Tesla White interior.', 0, 'en'))\n",
      "2021-09-05 13:40:13,186 INFO sqlalchemy.engine.base.Engine COMMIT\n"
     ]
    }
   ],
   "source": [
    "engine = create_engine('sqlite:///sentiment.db', echo = True)\n",
    "sqlite_connection = engine.connect()\n",
    "sqlite_table = \"spark_cleaned\"\n",
    "pandasDF.to_sql(sqlite_table, sqlite_connection, if_exists = 'replace')\n",
    "sqlite_connection.close()"
   ]
  },
  {
   "cell_type": "code",
   "execution_count": null,
   "id": "c953f3f8",
   "metadata": {},
   "outputs": [],
   "source": []
  }
 ],
 "metadata": {
  "kernelspec": {
   "display_name": "Python 3",
   "language": "python",
   "name": "python3"
  },
  "language_info": {
   "codemirror_mode": {
    "name": "ipython",
    "version": 3
   },
   "file_extension": ".py",
   "mimetype": "text/x-python",
   "name": "python",
   "nbconvert_exporter": "python",
   "pygments_lexer": "ipython3",
   "version": "3.8.8"
  }
 },
 "nbformat": 4,
 "nbformat_minor": 5
}
