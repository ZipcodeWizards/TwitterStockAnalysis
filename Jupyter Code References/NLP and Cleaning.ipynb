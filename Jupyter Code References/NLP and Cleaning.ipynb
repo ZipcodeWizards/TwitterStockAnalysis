{
 "cells": [
  {
   "cell_type": "code",
   "execution_count": 47,
   "id": "521dbebd",
   "metadata": {},
   "outputs": [],
   "source": [
    "import pandas as pd\n",
    "import sqlite3\n",
    "from sqlite3 import connect\n",
    "from sqlalchemy import create_engine\n",
    "import re\n",
    "from nltk.stem.snowball import SnowballStemmer"
   ]
  },
  {
   "cell_type": "code",
   "execution_count": 8,
   "id": "861112b9",
   "metadata": {},
   "outputs": [],
   "source": [
    "con = sqlite3.connect('/Users/sean/labs/Capstone/TwitterStockAnalysis/sentiment.db')"
   ]
  },
  {
   "cell_type": "code",
   "execution_count": 20,
   "id": "afdf4d86",
   "metadata": {},
   "outputs": [],
   "source": [
    "df = pd.read_sql_query(\"SELECT * FROM spark_cleaned\", con)"
   ]
  },
  {
   "cell_type": "code",
   "execution_count": 22,
   "id": "9d2634e8",
   "metadata": {},
   "outputs": [
    {
     "data": {
      "text/html": [
       "<div>\n",
       "<style scoped>\n",
       "    .dataframe tbody tr th:only-of-type {\n",
       "        vertical-align: middle;\n",
       "    }\n",
       "\n",
       "    .dataframe tbody tr th {\n",
       "        vertical-align: top;\n",
       "    }\n",
       "\n",
       "    .dataframe thead th {\n",
       "        text-align: right;\n",
       "    }\n",
       "</style>\n",
       "<table border=\"1\" class=\"dataframe\">\n",
       "  <thead>\n",
       "    <tr style=\"text-align: right;\">\n",
       "      <th></th>\n",
       "      <th>index</th>\n",
       "      <th>screen_name</th>\n",
       "      <th>date_time</th>\n",
       "      <th>text</th>\n",
       "      <th>retweeted</th>\n",
       "      <th>lang</th>\n",
       "    </tr>\n",
       "  </thead>\n",
       "  <tbody>\n",
       "    <tr>\n",
       "      <th>0</th>\n",
       "      <td>0</td>\n",
       "      <td>Zed18978371</td>\n",
       "      <td>2021-09-04 12:48:31.000000</td>\n",
       "      <td>@NorristownN @RolandStautz Yup - I’m the crazy...</td>\n",
       "      <td>0</td>\n",
       "      <td>en</td>\n",
       "    </tr>\n",
       "    <tr>\n",
       "      <th>1</th>\n",
       "      <td>1</td>\n",
       "      <td>TeslaOwls</td>\n",
       "      <td>2021-09-04 13:28:16.000000</td>\n",
       "      <td>@EconomicManBlog @pauluaq1 @jrtolver16 @Tesla ...</td>\n",
       "      <td>0</td>\n",
       "      <td>en</td>\n",
       "    </tr>\n",
       "    <tr>\n",
       "      <th>2</th>\n",
       "      <td>2</td>\n",
       "      <td>vin_wiesel</td>\n",
       "      <td>2021-09-04 13:28:11.000000</td>\n",
       "      <td>@nuc_geek Media: “TESLA CRASHES INTO BUILDING ...</td>\n",
       "      <td>0</td>\n",
       "      <td>en</td>\n",
       "    </tr>\n",
       "    <tr>\n",
       "      <th>3</th>\n",
       "      <td>3</td>\n",
       "      <td>Jeeeeee66023780</td>\n",
       "      <td>2021-09-04 13:28:09.000000</td>\n",
       "      <td>@TeslaAIBot @Tesla Why you have so many follow...</td>\n",
       "      <td>0</td>\n",
       "      <td>en</td>\n",
       "    </tr>\n",
       "    <tr>\n",
       "      <th>4</th>\n",
       "      <td>4</td>\n",
       "      <td>developrwannab</td>\n",
       "      <td>2021-09-04 13:28:53.000000</td>\n",
       "      <td>@ukspacebulletin Great thanks. Now I got to ad...</td>\n",
       "      <td>0</td>\n",
       "      <td>en</td>\n",
       "    </tr>\n",
       "  </tbody>\n",
       "</table>\n",
       "</div>"
      ],
      "text/plain": [
       "   index      screen_name                   date_time  \\\n",
       "0      0      Zed18978371  2021-09-04 12:48:31.000000   \n",
       "1      1        TeslaOwls  2021-09-04 13:28:16.000000   \n",
       "2      2       vin_wiesel  2021-09-04 13:28:11.000000   \n",
       "3      3  Jeeeeee66023780  2021-09-04 13:28:09.000000   \n",
       "4      4   developrwannab  2021-09-04 13:28:53.000000   \n",
       "\n",
       "                                                text  retweeted lang  \n",
       "0  @NorristownN @RolandStautz Yup - I’m the crazy...          0   en  \n",
       "1  @EconomicManBlog @pauluaq1 @jrtolver16 @Tesla ...          0   en  \n",
       "2  @nuc_geek Media: “TESLA CRASHES INTO BUILDING ...          0   en  \n",
       "3  @TeslaAIBot @Tesla Why you have so many follow...          0   en  \n",
       "4  @ukspacebulletin Great thanks. Now I got to ad...          0   en  "
      ]
     },
     "execution_count": 22,
     "metadata": {},
     "output_type": "execute_result"
    }
   ],
   "source": [
    "df.head(5)"
   ]
  },
  {
   "cell_type": "code",
   "execution_count": 39,
   "id": "aed446d9",
   "metadata": {},
   "outputs": [],
   "source": [
    "df_drop_index = df.drop(columns = 'index')"
   ]
  },
  {
   "cell_type": "code",
   "execution_count": 40,
   "id": "500b4e8e",
   "metadata": {},
   "outputs": [
    {
     "data": {
      "text/html": [
       "<div>\n",
       "<style scoped>\n",
       "    .dataframe tbody tr th:only-of-type {\n",
       "        vertical-align: middle;\n",
       "    }\n",
       "\n",
       "    .dataframe tbody tr th {\n",
       "        vertical-align: top;\n",
       "    }\n",
       "\n",
       "    .dataframe thead th {\n",
       "        text-align: right;\n",
       "    }\n",
       "</style>\n",
       "<table border=\"1\" class=\"dataframe\">\n",
       "  <thead>\n",
       "    <tr style=\"text-align: right;\">\n",
       "      <th></th>\n",
       "      <th>screen_name</th>\n",
       "      <th>date_time</th>\n",
       "      <th>text</th>\n",
       "      <th>retweeted</th>\n",
       "      <th>lang</th>\n",
       "    </tr>\n",
       "  </thead>\n",
       "  <tbody>\n",
       "    <tr>\n",
       "      <th>0</th>\n",
       "      <td>Zed18978371</td>\n",
       "      <td>2021-09-04 12:48:31.000000</td>\n",
       "      <td>@NorristownN @RolandStautz Yup - I’m the crazy...</td>\n",
       "      <td>0</td>\n",
       "      <td>en</td>\n",
       "    </tr>\n",
       "    <tr>\n",
       "      <th>1</th>\n",
       "      <td>TeslaOwls</td>\n",
       "      <td>2021-09-04 13:28:16.000000</td>\n",
       "      <td>@EconomicManBlog @pauluaq1 @jrtolver16 @Tesla ...</td>\n",
       "      <td>0</td>\n",
       "      <td>en</td>\n",
       "    </tr>\n",
       "    <tr>\n",
       "      <th>2</th>\n",
       "      <td>vin_wiesel</td>\n",
       "      <td>2021-09-04 13:28:11.000000</td>\n",
       "      <td>@nuc_geek Media: “TESLA CRASHES INTO BUILDING ...</td>\n",
       "      <td>0</td>\n",
       "      <td>en</td>\n",
       "    </tr>\n",
       "    <tr>\n",
       "      <th>3</th>\n",
       "      <td>Jeeeeee66023780</td>\n",
       "      <td>2021-09-04 13:28:09.000000</td>\n",
       "      <td>@TeslaAIBot @Tesla Why you have so many follow...</td>\n",
       "      <td>0</td>\n",
       "      <td>en</td>\n",
       "    </tr>\n",
       "    <tr>\n",
       "      <th>4</th>\n",
       "      <td>developrwannab</td>\n",
       "      <td>2021-09-04 13:28:53.000000</td>\n",
       "      <td>@ukspacebulletin Great thanks. Now I got to ad...</td>\n",
       "      <td>0</td>\n",
       "      <td>en</td>\n",
       "    </tr>\n",
       "  </tbody>\n",
       "</table>\n",
       "</div>"
      ],
      "text/plain": [
       "       screen_name                   date_time  \\\n",
       "0      Zed18978371  2021-09-04 12:48:31.000000   \n",
       "1        TeslaOwls  2021-09-04 13:28:16.000000   \n",
       "2       vin_wiesel  2021-09-04 13:28:11.000000   \n",
       "3  Jeeeeee66023780  2021-09-04 13:28:09.000000   \n",
       "4   developrwannab  2021-09-04 13:28:53.000000   \n",
       "\n",
       "                                                text  retweeted lang  \n",
       "0  @NorristownN @RolandStautz Yup - I’m the crazy...          0   en  \n",
       "1  @EconomicManBlog @pauluaq1 @jrtolver16 @Tesla ...          0   en  \n",
       "2  @nuc_geek Media: “TESLA CRASHES INTO BUILDING ...          0   en  \n",
       "3  @TeslaAIBot @Tesla Why you have so many follow...          0   en  \n",
       "4  @ukspacebulletin Great thanks. Now I got to ad...          0   en  "
      ]
     },
     "execution_count": 40,
     "metadata": {},
     "output_type": "execute_result"
    }
   ],
   "source": [
    "df_drop_index.head()"
   ]
  },
  {
   "cell_type": "code",
   "execution_count": 41,
   "id": "6c55f9fd",
   "metadata": {},
   "outputs": [
    {
     "data": {
      "text/plain": [
       "30"
      ]
     },
     "execution_count": 41,
     "metadata": {},
     "output_type": "execute_result"
    }
   ],
   "source": [
    "len(df_drop_index)"
   ]
  },
  {
   "cell_type": "code",
   "execution_count": 42,
   "id": "cff035f9",
   "metadata": {},
   "outputs": [
    {
     "data": {
      "text/plain": [
       "8"
      ]
     },
     "execution_count": 42,
     "metadata": {},
     "output_type": "execute_result"
    }
   ],
   "source": [
    "# remove duplicates \n",
    "df_no_dupes = df_drop_index.drop_duplicates()\n",
    "df_no_dupes\n",
    "len(df_no_dupes)"
   ]
  },
  {
   "cell_type": "code",
   "execution_count": 43,
   "id": "8d91995c",
   "metadata": {},
   "outputs": [
    {
     "name": "stderr",
     "output_type": "stream",
     "text": [
      "<ipython-input-43-59960d4ecb67>:3: FutureWarning: The default value of regex will change from True to False in a future version.\n",
      "  df_no_dupes['text'] = df_no_dupes['text'].str.replace('@[^\\s]+','')\n",
      "<ipython-input-43-59960d4ecb67>:3: SettingWithCopyWarning: \n",
      "A value is trying to be set on a copy of a slice from a DataFrame.\n",
      "Try using .loc[row_indexer,col_indexer] = value instead\n",
      "\n",
      "See the caveats in the documentation: https://pandas.pydata.org/pandas-docs/stable/user_guide/indexing.html#returning-a-view-versus-a-copy\n",
      "  df_no_dupes['text'] = df_no_dupes['text'].str.replace('@[^\\s]+','')\n"
     ]
    }
   ],
   "source": [
    "# use regex to remove @usernames\n",
    "\n",
    "df_no_dupes['text'] = df_no_dupes['text'].str.replace('@[^\\s]+','')\n",
    "#re.sub('@[^\\s]+','',Tweet)"
   ]
  },
  {
   "cell_type": "code",
   "execution_count": 44,
   "id": "c1314df7",
   "metadata": {},
   "outputs": [
    {
     "data": {
      "text/html": [
       "<div>\n",
       "<style scoped>\n",
       "    .dataframe tbody tr th:only-of-type {\n",
       "        vertical-align: middle;\n",
       "    }\n",
       "\n",
       "    .dataframe tbody tr th {\n",
       "        vertical-align: top;\n",
       "    }\n",
       "\n",
       "    .dataframe thead th {\n",
       "        text-align: right;\n",
       "    }\n",
       "</style>\n",
       "<table border=\"1\" class=\"dataframe\">\n",
       "  <thead>\n",
       "    <tr style=\"text-align: right;\">\n",
       "      <th></th>\n",
       "      <th>screen_name</th>\n",
       "      <th>date_time</th>\n",
       "      <th>text</th>\n",
       "      <th>retweeted</th>\n",
       "      <th>lang</th>\n",
       "    </tr>\n",
       "  </thead>\n",
       "  <tbody>\n",
       "    <tr>\n",
       "      <th>0</th>\n",
       "      <td>Zed18978371</td>\n",
       "      <td>2021-09-04 12:48:31.000000</td>\n",
       "      <td>Yup - I’m the crazy crypto/Tesla guy..</td>\n",
       "      <td>0</td>\n",
       "      <td>en</td>\n",
       "    </tr>\n",
       "    <tr>\n",
       "      <th>1</th>\n",
       "      <td>TeslaOwls</td>\n",
       "      <td>2021-09-04 13:28:16.000000</td>\n",
       "      <td>I don't believe I ever claimed Tesla had ...</td>\n",
       "      <td>0</td>\n",
       "      <td>en</td>\n",
       "    </tr>\n",
       "    <tr>\n",
       "      <th>2</th>\n",
       "      <td>vin_wiesel</td>\n",
       "      <td>2021-09-04 13:28:11.000000</td>\n",
       "      <td>Media: “TESLA CRASHES INTO BUILDING WHILE ON ...</td>\n",
       "      <td>0</td>\n",
       "      <td>en</td>\n",
       "    </tr>\n",
       "    <tr>\n",
       "      <th>3</th>\n",
       "      <td>Jeeeeee66023780</td>\n",
       "      <td>2021-09-04 13:28:09.000000</td>\n",
       "      <td>Why you have so many followers ?</td>\n",
       "      <td>0</td>\n",
       "      <td>en</td>\n",
       "    </tr>\n",
       "    <tr>\n",
       "      <th>4</th>\n",
       "      <td>developrwannab</td>\n",
       "      <td>2021-09-04 13:28:53.000000</td>\n",
       "      <td>Great thanks. Now I got to add Tesla bot 🤔 So...</td>\n",
       "      <td>0</td>\n",
       "      <td>en</td>\n",
       "    </tr>\n",
       "    <tr>\n",
       "      <th>5</th>\n",
       "      <td>luke_deluxe</td>\n",
       "      <td>2021-09-04 13:28:44.000000</td>\n",
       "      <td>Fine. Tesla should.</td>\n",
       "      <td>0</td>\n",
       "      <td>en</td>\n",
       "    </tr>\n",
       "    <tr>\n",
       "      <th>8</th>\n",
       "      <td>lordhyperkill</td>\n",
       "      <td>2021-09-04 14:52:30.000000</td>\n",
       "      <td>That’s a real thing? Whenever I have heard a...</td>\n",
       "      <td>0</td>\n",
       "      <td>en</td>\n",
       "    </tr>\n",
       "    <tr>\n",
       "      <th>9</th>\n",
       "      <td>barryagall</td>\n",
       "      <td>2021-09-04 14:52:29.000000</td>\n",
       "      <td>White interior.</td>\n",
       "      <td>0</td>\n",
       "      <td>en</td>\n",
       "    </tr>\n",
       "  </tbody>\n",
       "</table>\n",
       "</div>"
      ],
      "text/plain": [
       "       screen_name                   date_time  \\\n",
       "0      Zed18978371  2021-09-04 12:48:31.000000   \n",
       "1        TeslaOwls  2021-09-04 13:28:16.000000   \n",
       "2       vin_wiesel  2021-09-04 13:28:11.000000   \n",
       "3  Jeeeeee66023780  2021-09-04 13:28:09.000000   \n",
       "4   developrwannab  2021-09-04 13:28:53.000000   \n",
       "5      luke_deluxe  2021-09-04 13:28:44.000000   \n",
       "8    lordhyperkill  2021-09-04 14:52:30.000000   \n",
       "9       barryagall  2021-09-04 14:52:29.000000   \n",
       "\n",
       "                                                text  retweeted lang  \n",
       "0             Yup - I’m the crazy crypto/Tesla guy..          0   en  \n",
       "1       I don't believe I ever claimed Tesla had ...          0   en  \n",
       "2   Media: “TESLA CRASHES INTO BUILDING WHILE ON ...          0   en  \n",
       "3                   Why you have so many followers ?          0   en  \n",
       "4   Great thanks. Now I got to add Tesla bot 🤔 So...          0   en  \n",
       "5                                Fine. Tesla should.          0   en  \n",
       "8    That’s a real thing? Whenever I have heard a...          0   en  \n",
       "9                                    White interior.          0   en  "
      ]
     },
     "execution_count": 44,
     "metadata": {},
     "output_type": "execute_result"
    }
   ],
   "source": [
    "df_no_dupes"
   ]
  },
  {
   "cell_type": "code",
   "execution_count": 45,
   "id": "55f35689",
   "metadata": {},
   "outputs": [
    {
     "name": "stderr",
     "output_type": "stream",
     "text": [
      "<ipython-input-45-0fde4d1c2c14>:2: FutureWarning: The default value of regex will change from True to False in a future version.\n",
      "  df_no_dupes[\"text\"] = df_no_dupes[\"text\"].str.replace('[^\\w\\s]','')\n",
      "<ipython-input-45-0fde4d1c2c14>:2: SettingWithCopyWarning: \n",
      "A value is trying to be set on a copy of a slice from a DataFrame.\n",
      "Try using .loc[row_indexer,col_indexer] = value instead\n",
      "\n",
      "See the caveats in the documentation: https://pandas.pydata.org/pandas-docs/stable/user_guide/indexing.html#returning-a-view-versus-a-copy\n",
      "  df_no_dupes[\"text\"] = df_no_dupes[\"text\"].str.replace('[^\\w\\s]','')\n"
     ]
    }
   ],
   "source": [
    "# use regex to remove punctuation and emojis \n",
    "df_no_dupes[\"text\"] = df_no_dupes[\"text\"].str.replace('[^\\w\\s]','')"
   ]
  },
  {
   "cell_type": "code",
   "execution_count": 46,
   "id": "156b4c41",
   "metadata": {},
   "outputs": [
    {
     "data": {
      "text/html": [
       "<div>\n",
       "<style scoped>\n",
       "    .dataframe tbody tr th:only-of-type {\n",
       "        vertical-align: middle;\n",
       "    }\n",
       "\n",
       "    .dataframe tbody tr th {\n",
       "        vertical-align: top;\n",
       "    }\n",
       "\n",
       "    .dataframe thead th {\n",
       "        text-align: right;\n",
       "    }\n",
       "</style>\n",
       "<table border=\"1\" class=\"dataframe\">\n",
       "  <thead>\n",
       "    <tr style=\"text-align: right;\">\n",
       "      <th></th>\n",
       "      <th>screen_name</th>\n",
       "      <th>date_time</th>\n",
       "      <th>text</th>\n",
       "      <th>retweeted</th>\n",
       "      <th>lang</th>\n",
       "    </tr>\n",
       "  </thead>\n",
       "  <tbody>\n",
       "    <tr>\n",
       "      <th>0</th>\n",
       "      <td>Zed18978371</td>\n",
       "      <td>2021-09-04 12:48:31.000000</td>\n",
       "      <td>Yup  Im the crazy cryptoTesla guy</td>\n",
       "      <td>0</td>\n",
       "      <td>en</td>\n",
       "    </tr>\n",
       "    <tr>\n",
       "      <th>1</th>\n",
       "      <td>TeslaOwls</td>\n",
       "      <td>2021-09-04 13:28:16.000000</td>\n",
       "      <td>I dont believe I ever claimed Tesla had g...</td>\n",
       "      <td>0</td>\n",
       "      <td>en</td>\n",
       "    </tr>\n",
       "    <tr>\n",
       "      <th>2</th>\n",
       "      <td>vin_wiesel</td>\n",
       "      <td>2021-09-04 13:28:11.000000</td>\n",
       "      <td>Media TESLA CRASHES INTO BUILDING WHILE ON AU...</td>\n",
       "      <td>0</td>\n",
       "      <td>en</td>\n",
       "    </tr>\n",
       "    <tr>\n",
       "      <th>3</th>\n",
       "      <td>Jeeeeee66023780</td>\n",
       "      <td>2021-09-04 13:28:09.000000</td>\n",
       "      <td>Why you have so many followers</td>\n",
       "      <td>0</td>\n",
       "      <td>en</td>\n",
       "    </tr>\n",
       "    <tr>\n",
       "      <th>4</th>\n",
       "      <td>developrwannab</td>\n",
       "      <td>2021-09-04 13:28:53.000000</td>\n",
       "      <td>Great thanks Now I got to add Tesla bot  So t...</td>\n",
       "      <td>0</td>\n",
       "      <td>en</td>\n",
       "    </tr>\n",
       "  </tbody>\n",
       "</table>\n",
       "</div>"
      ],
      "text/plain": [
       "       screen_name                   date_time  \\\n",
       "0      Zed18978371  2021-09-04 12:48:31.000000   \n",
       "1        TeslaOwls  2021-09-04 13:28:16.000000   \n",
       "2       vin_wiesel  2021-09-04 13:28:11.000000   \n",
       "3  Jeeeeee66023780  2021-09-04 13:28:09.000000   \n",
       "4   developrwannab  2021-09-04 13:28:53.000000   \n",
       "\n",
       "                                                text  retweeted lang  \n",
       "0                  Yup  Im the crazy cryptoTesla guy          0   en  \n",
       "1       I dont believe I ever claimed Tesla had g...          0   en  \n",
       "2   Media TESLA CRASHES INTO BUILDING WHILE ON AU...          0   en  \n",
       "3                    Why you have so many followers           0   en  \n",
       "4   Great thanks Now I got to add Tesla bot  So t...          0   en  "
      ]
     },
     "execution_count": 46,
     "metadata": {},
     "output_type": "execute_result"
    }
   ],
   "source": [
    "df_no_dupes.head()"
   ]
  },
  {
   "cell_type": "code",
   "execution_count": null,
   "id": "4862807d",
   "metadata": {},
   "outputs": [],
   "source": [
    "# remove stop words "
   ]
  }
 ],
 "metadata": {
  "kernelspec": {
   "display_name": "Python 3",
   "language": "python",
   "name": "python3"
  },
  "language_info": {
   "codemirror_mode": {
    "name": "ipython",
    "version": 3
   },
   "file_extension": ".py",
   "mimetype": "text/x-python",
   "name": "python",
   "nbconvert_exporter": "python",
   "pygments_lexer": "ipython3",
   "version": "3.8.8"
  }
 },
 "nbformat": 4,
 "nbformat_minor": 5
}
