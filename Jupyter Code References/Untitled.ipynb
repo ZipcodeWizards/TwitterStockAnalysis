{
 "cells": [
  {
   "cell_type": "code",
   "execution_count": 1,
   "id": "5083434a",
   "metadata": {},
   "outputs": [],
   "source": [
    "import pandas as pd\n",
    "import sqlite3\n",
    "from sqlite3 import connect\n",
    "from sqlalchemy import create_engine"
   ]
  },
  {
   "cell_type": "code",
   "execution_count": 34,
   "id": "8cba96e1",
   "metadata": {},
   "outputs": [],
   "source": [
    "con = sqlite3.connect('/Users/sean/labs/Capstone/TwitterStockAnalysis/sentiment.db')"
   ]
  },
  {
   "cell_type": "code",
   "execution_count": 35,
   "id": "f75230a5",
   "metadata": {},
   "outputs": [],
   "source": [
    "df = pd.read_sql_query(\"SELECT * FROM tsla_stock_prices\", con)"
   ]
  },
  {
   "cell_type": "code",
   "execution_count": 36,
   "id": "6950a0ea",
   "metadata": {},
   "outputs": [
    {
     "data": {
      "text/html": [
       "<div>\n",
       "<style scoped>\n",
       "    .dataframe tbody tr th:only-of-type {\n",
       "        vertical-align: middle;\n",
       "    }\n",
       "\n",
       "    .dataframe tbody tr th {\n",
       "        vertical-align: top;\n",
       "    }\n",
       "\n",
       "    .dataframe thead th {\n",
       "        text-align: right;\n",
       "    }\n",
       "</style>\n",
       "<table border=\"1\" class=\"dataframe\">\n",
       "  <thead>\n",
       "    <tr style=\"text-align: right;\">\n",
       "      <th></th>\n",
       "      <th>index</th>\n",
       "      <th>open</th>\n",
       "      <th>high</th>\n",
       "      <th>low</th>\n",
       "      <th>last</th>\n",
       "      <th>close</th>\n",
       "      <th>volume</th>\n",
       "      <th>date</th>\n",
       "      <th>symbol</th>\n",
       "      <th>exchange</th>\n",
       "    </tr>\n",
       "  </thead>\n",
       "  <tbody>\n",
       "    <tr>\n",
       "      <th>0</th>\n",
       "      <td>0</td>\n",
       "      <td>738.53</td>\n",
       "      <td>760.16</td>\n",
       "      <td>738.14</td>\n",
       "      <td>753.05</td>\n",
       "      <td>733.57</td>\n",
       "      <td>308570.0</td>\n",
       "      <td>2021-09-07T19:30:00+0000</td>\n",
       "      <td>TSLA</td>\n",
       "      <td>IEXG</td>\n",
       "    </tr>\n",
       "    <tr>\n",
       "      <th>1</th>\n",
       "      <td>1</td>\n",
       "      <td>738.53</td>\n",
       "      <td>760.16</td>\n",
       "      <td>738.14</td>\n",
       "      <td>754.94</td>\n",
       "      <td>733.57</td>\n",
       "      <td>291181.0</td>\n",
       "      <td>2021-09-07T19:00:00+0000</td>\n",
       "      <td>TSLA</td>\n",
       "      <td>IEXG</td>\n",
       "    </tr>\n",
       "    <tr>\n",
       "      <th>2</th>\n",
       "      <td>2</td>\n",
       "      <td>738.53</td>\n",
       "      <td>760.16</td>\n",
       "      <td>738.14</td>\n",
       "      <td>752.89</td>\n",
       "      <td>733.57</td>\n",
       "      <td>274920.0</td>\n",
       "      <td>2021-09-07T18:30:00+0000</td>\n",
       "      <td>TSLA</td>\n",
       "      <td>IEXG</td>\n",
       "    </tr>\n",
       "    <tr>\n",
       "      <th>3</th>\n",
       "      <td>3</td>\n",
       "      <td>738.53</td>\n",
       "      <td>760.16</td>\n",
       "      <td>738.14</td>\n",
       "      <td>754.47</td>\n",
       "      <td>733.57</td>\n",
       "      <td>259757.0</td>\n",
       "      <td>2021-09-07T18:00:00+0000</td>\n",
       "      <td>TSLA</td>\n",
       "      <td>IEXG</td>\n",
       "    </tr>\n",
       "    <tr>\n",
       "      <th>4</th>\n",
       "      <td>4</td>\n",
       "      <td>738.53</td>\n",
       "      <td>760.16</td>\n",
       "      <td>738.14</td>\n",
       "      <td>752.29</td>\n",
       "      <td>733.57</td>\n",
       "      <td>242599.0</td>\n",
       "      <td>2021-09-07T17:30:00+0000</td>\n",
       "      <td>TSLA</td>\n",
       "      <td>IEXG</td>\n",
       "    </tr>\n",
       "  </tbody>\n",
       "</table>\n",
       "</div>"
      ],
      "text/plain": [
       "   index    open    high     low    last   close    volume  \\\n",
       "0      0  738.53  760.16  738.14  753.05  733.57  308570.0   \n",
       "1      1  738.53  760.16  738.14  754.94  733.57  291181.0   \n",
       "2      2  738.53  760.16  738.14  752.89  733.57  274920.0   \n",
       "3      3  738.53  760.16  738.14  754.47  733.57  259757.0   \n",
       "4      4  738.53  760.16  738.14  752.29  733.57  242599.0   \n",
       "\n",
       "                       date symbol exchange  \n",
       "0  2021-09-07T19:30:00+0000   TSLA     IEXG  \n",
       "1  2021-09-07T19:00:00+0000   TSLA     IEXG  \n",
       "2  2021-09-07T18:30:00+0000   TSLA     IEXG  \n",
       "3  2021-09-07T18:00:00+0000   TSLA     IEXG  \n",
       "4  2021-09-07T17:30:00+0000   TSLA     IEXG  "
      ]
     },
     "execution_count": 36,
     "metadata": {},
     "output_type": "execute_result"
    }
   ],
   "source": [
    "df.head()"
   ]
  },
  {
   "cell_type": "code",
   "execution_count": 37,
   "id": "fe5bb907",
   "metadata": {},
   "outputs": [],
   "source": [
    "df_2_columns = df[['last', 'date']]"
   ]
  },
  {
   "cell_type": "code",
   "execution_count": 38,
   "id": "7be989df",
   "metadata": {},
   "outputs": [
    {
     "data": {
      "text/html": [
       "<div>\n",
       "<style scoped>\n",
       "    .dataframe tbody tr th:only-of-type {\n",
       "        vertical-align: middle;\n",
       "    }\n",
       "\n",
       "    .dataframe tbody tr th {\n",
       "        vertical-align: top;\n",
       "    }\n",
       "\n",
       "    .dataframe thead th {\n",
       "        text-align: right;\n",
       "    }\n",
       "</style>\n",
       "<table border=\"1\" class=\"dataframe\">\n",
       "  <thead>\n",
       "    <tr style=\"text-align: right;\">\n",
       "      <th></th>\n",
       "      <th>last</th>\n",
       "      <th>date</th>\n",
       "    </tr>\n",
       "  </thead>\n",
       "  <tbody>\n",
       "    <tr>\n",
       "      <th>0</th>\n",
       "      <td>753.05</td>\n",
       "      <td>2021-09-07T19:30:00+0000</td>\n",
       "    </tr>\n",
       "    <tr>\n",
       "      <th>1</th>\n",
       "      <td>754.94</td>\n",
       "      <td>2021-09-07T19:00:00+0000</td>\n",
       "    </tr>\n",
       "    <tr>\n",
       "      <th>2</th>\n",
       "      <td>752.89</td>\n",
       "      <td>2021-09-07T18:30:00+0000</td>\n",
       "    </tr>\n",
       "    <tr>\n",
       "      <th>3</th>\n",
       "      <td>754.47</td>\n",
       "      <td>2021-09-07T18:00:00+0000</td>\n",
       "    </tr>\n",
       "    <tr>\n",
       "      <th>4</th>\n",
       "      <td>752.29</td>\n",
       "      <td>2021-09-07T17:30:00+0000</td>\n",
       "    </tr>\n",
       "  </tbody>\n",
       "</table>\n",
       "</div>"
      ],
      "text/plain": [
       "     last                      date\n",
       "0  753.05  2021-09-07T19:30:00+0000\n",
       "1  754.94  2021-09-07T19:00:00+0000\n",
       "2  752.89  2021-09-07T18:30:00+0000\n",
       "3  754.47  2021-09-07T18:00:00+0000\n",
       "4  752.29  2021-09-07T17:30:00+0000"
      ]
     },
     "execution_count": 38,
     "metadata": {},
     "output_type": "execute_result"
    }
   ],
   "source": [
    "df_2_columns.head()"
   ]
  },
  {
   "cell_type": "code",
   "execution_count": 39,
   "id": "4339cb1c",
   "metadata": {},
   "outputs": [
    {
     "data": {
      "text/plain": [
       "\"df_2_columns['new_date'] = None\\ndf_2_columns['time'] = None\""
      ]
     },
     "execution_count": 39,
     "metadata": {},
     "output_type": "execute_result"
    }
   ],
   "source": [
    "'''df_2_columns['new_date'] = None\n",
    "df_2_columns['time'] = None'''"
   ]
  },
  {
   "cell_type": "code",
   "execution_count": 44,
   "id": "bbc2efc6",
   "metadata": {},
   "outputs": [],
   "source": [
    "for index, row in df_2_columns['date'].iteritems():\n",
    "    #print(row[:10])\n",
    "    # time is currently\n",
    "    df_2_columns.loc[index, 'time'] = row[11:16]\n",
    "    df_2_columns.loc[index, 'new_date'] = row[:10]\n",
    "    \n",
    "df_2_columns = df_2_columns.drop(columns = 'date')"
   ]
  },
  {
   "cell_type": "code",
   "execution_count": 45,
   "id": "ad874c04",
   "metadata": {},
   "outputs": [
    {
     "data": {
      "text/html": [
       "<div>\n",
       "<style scoped>\n",
       "    .dataframe tbody tr th:only-of-type {\n",
       "        vertical-align: middle;\n",
       "    }\n",
       "\n",
       "    .dataframe tbody tr th {\n",
       "        vertical-align: top;\n",
       "    }\n",
       "\n",
       "    .dataframe thead th {\n",
       "        text-align: right;\n",
       "    }\n",
       "</style>\n",
       "<table border=\"1\" class=\"dataframe\">\n",
       "  <thead>\n",
       "    <tr style=\"text-align: right;\">\n",
       "      <th></th>\n",
       "      <th>last</th>\n",
       "      <th>time</th>\n",
       "      <th>new_date</th>\n",
       "    </tr>\n",
       "  </thead>\n",
       "  <tbody>\n",
       "    <tr>\n",
       "      <th>0</th>\n",
       "      <td>753.05</td>\n",
       "      <td>19:30</td>\n",
       "      <td>2021-09-07</td>\n",
       "    </tr>\n",
       "    <tr>\n",
       "      <th>1</th>\n",
       "      <td>754.94</td>\n",
       "      <td>19:00</td>\n",
       "      <td>2021-09-07</td>\n",
       "    </tr>\n",
       "    <tr>\n",
       "      <th>2</th>\n",
       "      <td>752.89</td>\n",
       "      <td>18:30</td>\n",
       "      <td>2021-09-07</td>\n",
       "    </tr>\n",
       "    <tr>\n",
       "      <th>3</th>\n",
       "      <td>754.47</td>\n",
       "      <td>18:00</td>\n",
       "      <td>2021-09-07</td>\n",
       "    </tr>\n",
       "    <tr>\n",
       "      <th>4</th>\n",
       "      <td>752.29</td>\n",
       "      <td>17:30</td>\n",
       "      <td>2021-09-07</td>\n",
       "    </tr>\n",
       "    <tr>\n",
       "      <th>...</th>\n",
       "      <td>...</td>\n",
       "      <td>...</td>\n",
       "      <td>...</td>\n",
       "    </tr>\n",
       "    <tr>\n",
       "      <th>95</th>\n",
       "      <td>NaN</td>\n",
       "      <td>00:00</td>\n",
       "      <td>2021-08-31</td>\n",
       "    </tr>\n",
       "    <tr>\n",
       "      <th>96</th>\n",
       "      <td>NaN</td>\n",
       "      <td>23:30</td>\n",
       "      <td>2021-08-30</td>\n",
       "    </tr>\n",
       "    <tr>\n",
       "      <th>97</th>\n",
       "      <td>NaN</td>\n",
       "      <td>23:00</td>\n",
       "      <td>2021-08-30</td>\n",
       "    </tr>\n",
       "    <tr>\n",
       "      <th>98</th>\n",
       "      <td>NaN</td>\n",
       "      <td>22:30</td>\n",
       "      <td>2021-08-30</td>\n",
       "    </tr>\n",
       "    <tr>\n",
       "      <th>99</th>\n",
       "      <td>NaN</td>\n",
       "      <td>22:00</td>\n",
       "      <td>2021-08-30</td>\n",
       "    </tr>\n",
       "  </tbody>\n",
       "</table>\n",
       "<p>100 rows × 3 columns</p>\n",
       "</div>"
      ],
      "text/plain": [
       "      last   time    new_date\n",
       "0   753.05  19:30  2021-09-07\n",
       "1   754.94  19:00  2021-09-07\n",
       "2   752.89  18:30  2021-09-07\n",
       "3   754.47  18:00  2021-09-07\n",
       "4   752.29  17:30  2021-09-07\n",
       "..     ...    ...         ...\n",
       "95     NaN  00:00  2021-08-31\n",
       "96     NaN  23:30  2021-08-30\n",
       "97     NaN  23:00  2021-08-30\n",
       "98     NaN  22:30  2021-08-30\n",
       "99     NaN  22:00  2021-08-30\n",
       "\n",
       "[100 rows x 3 columns]"
      ]
     },
     "execution_count": 45,
     "metadata": {},
     "output_type": "execute_result"
    }
   ],
   "source": [
    "df_2_columns"
   ]
  },
  {
   "cell_type": "markdown",
   "id": "7d08ff2c",
   "metadata": {},
   "source": [
    "#### convert utc time to twitter "
   ]
  }
 ],
 "metadata": {
  "kernelspec": {
   "display_name": "Python 3",
   "language": "python",
   "name": "python3"
  },
  "language_info": {
   "codemirror_mode": {
    "name": "ipython",
    "version": 3
   },
   "file_extension": ".py",
   "mimetype": "text/x-python",
   "name": "python",
   "nbconvert_exporter": "python",
   "pygments_lexer": "ipython3",
   "version": "3.8.8"
  }
 },
 "nbformat": 4,
 "nbformat_minor": 5
}
